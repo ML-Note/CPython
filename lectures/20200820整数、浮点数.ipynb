{
 "cells": [
  {
   "cell_type": "markdown",
   "id": "d173922d",
   "metadata": {},
   "source": [
    "# 整数"
   ]
  },
  {
   "cell_type": "code",
   "execution_count": 48,
   "id": "15e8a4e3",
   "metadata": {},
   "outputs": [
    {
     "name": "stdout",
     "output_type": "stream",
     "text": [
      "c = 1.6667\n",
      "a/b = 1.6666666666666667\n",
      "a%b = 2\n",
      "a//b = 1\n",
      "-2\n",
      "125\n"
     ]
    }
   ],
   "source": [
    "a = 5\n",
    "b = 3\n",
    "c = round(a/b,4) #round(x,y) x为需要四舍五入的数，y为保留到小数点后几位\n",
    "print('c =',c) \n",
    "print('a/b =',a/b)\n",
    "print('a%b =',a%b) #取余\n",
    "print('a//b =',a//b) #整除运算，向下取整\n",
    "print(a**b) #a的b次方"
   ]
  },
  {
   "cell_type": "code",
   "execution_count": 25,
   "id": "1ac18e3b",
   "metadata": {},
   "outputs": [
    {
     "name": "stdout",
     "output_type": "stream",
     "text": [
      "1020 <class 'str'>\n",
      "30 <class 'int'>\n"
     ]
    }
   ],
   "source": [
    "d = '10'\n",
    "e = '20'\n",
    "f = d+e\n",
    "g = int(d)+int(e) #通过int()将字符串转换成整型\n",
    "print(f,type(f))\n",
    "print(g,type(g))"
   ]
  },
  {
   "cell_type": "markdown",
   "id": "b5887efb",
   "metadata": {},
   "source": [
    "# 浮点数                                "
   ]
  },
  {
   "cell_type": "code",
   "execution_count": 22,
   "id": "4d39c68f",
   "metadata": {},
   "outputs": [
    {
     "name": "stdout",
     "output_type": "stream",
     "text": [
      "1\n",
      "2\n"
     ]
    }
   ],
   "source": [
    "import math\n",
    "print(math.floor(1.2)) # floor：向下取整\n",
    "print(math.ceil(1.2)) # ceil：向上取整"
   ]
  },
  {
   "cell_type": "markdown",
   "id": "1e78b121",
   "metadata": {},
   "source": [
    "## 浮点数地狱"
   ]
  },
  {
   "cell_type": "code",
   "execution_count": 35,
   "id": "e897bc46",
   "metadata": {},
   "outputs": [
    {
     "data": {
      "text/plain": [
       "5.551115123125783e-17"
      ]
     },
     "execution_count": 35,
     "metadata": {},
     "output_type": "execute_result"
    }
   ],
   "source": [
    "0.2+0.1-0.3"
   ]
  },
  {
   "cell_type": "raw",
   "id": "d4f5ab7b",
   "metadata": {},
   "source": [
    "\n",
    "<font face=\"黑体\" color=red size=4>**浮点数精度问题**：\n",
    "<font face=\"宋体\" color=black size=3>Python中浮点数都是以二进制形式存储的，将浮点数转化成二进制，会产生精度损失。\n",
    "><font face=\"黑体\" color=black size=3>**浮点数转化为二进制**：\n",
    "- 十进制小数乘2，得到整数和小数部分\n",
    "- 整数部分为相应的二进制数码\n",
    "- 再用2乘小数部分，又得到整数和小数部分\n",
    "- 不断重复，直到小数部分为0或达到精度要求\n",
    "- 第一次所得为最高位，最后一次得到为最低位\n",
    "\n",
    "\n",
    "例：\n",
    "- 0.25的二进制——0.01\n",
    "- 0.1的二进制：0.000110011001100110011001100\n",
    "\n",
    "\n",
    ">国际IEEE754标准，Python是以双精度（64bit）来保存浮点数的，超过64位的会被砍掉，所以在计算机中保存的实际已经小于0.1，从而导致运算时产生误差。"
   ]
  },
  {
   "cell_type": "markdown",
   "id": "048ae763",
   "metadata": {},
   "source": [
    "<font face=\"黑体\" color=red size=4>**解决方案:decimal**"
   ]
  },
  {
   "cell_type": "code",
   "execution_count": 32,
   "id": "d85b5c73",
   "metadata": {},
   "outputs": [
    {
     "name": "stdout",
     "output_type": "stream",
     "text": [
      "0.0\n"
     ]
    }
   ],
   "source": [
    "from decimal import *\n",
    "a = Decimal('0.1')\n",
    "b = Decimal('0.2')\n",
    "c = Decimal('0.3')\n",
    "\n",
    "print(a+b-c)"
   ]
  },
  {
   "cell_type": "markdown",
   "id": "bd4f9089",
   "metadata": {},
   "source": [
    "<font face=\"黑体\" color=red size=4>**绝对精确与相对精确**"
   ]
  },
  {
   "cell_type": "code",
   "execution_count": 50,
   "id": "58958ede",
   "metadata": {},
   "outputs": [
    {
     "data": {
      "text/plain": [
       "10000000000.0"
      ]
     },
     "execution_count": 50,
     "metadata": {},
     "output_type": "execute_result"
    }
   ],
   "source": [
    "1e10 #科学计数法"
   ]
  },
  {
   "cell_type": "code",
   "execution_count": 45,
   "id": "e40b1533",
   "metadata": {},
   "outputs": [
    {
     "data": {
      "text/plain": [
       "False"
      ]
     },
     "execution_count": 45,
     "metadata": {},
     "output_type": "execute_result"
    }
   ],
   "source": [
    "1e50 == 10**50\n",
    "#float vs big integer"
   ]
  },
  {
   "cell_type": "markdown",
   "id": "865274a6",
   "metadata": {},
   "source": [
    "不能通过“==”比较浮点数，正确的方法应是：比较两个值差值的绝对值"
   ]
  },
  {
   "cell_type": "code",
   "execution_count": 34,
   "id": "975e9b05",
   "metadata": {},
   "outputs": [
    {
     "data": {
      "text/plain": [
       "True"
      ]
     },
     "execution_count": 34,
     "metadata": {},
     "output_type": "execute_result"
    }
   ],
   "source": [
    "1e50 - 10**50 < 1e-3"
   ]
  },
  {
   "cell_type": "markdown",
   "id": "9aff99a5",
   "metadata": {},
   "source": [
    "## float64与float32"
   ]
  },
  {
   "cell_type": "raw",
   "id": "09cc2eaa",
   "metadata": {},
   "source": [
    "float32（单精度类型，占据32个二进制位 bit,4个字节 byte）\n",
    "\n",
    "float64（双精度类型，占据64个二进制位 bit,8个字节 byte）\n",
    "\n",
    "双精度类型比单精度类型更能精确地表示一个小数，但是占用的内存空间也比较大。"
   ]
  },
  {
   "cell_type": "markdown",
   "id": "878ecdbf",
   "metadata": {},
   "source": [
    "<font face=\"黑体\" color=red size=4>**float64与float32的转换：numpy**"
   ]
  },
  {
   "cell_type": "code",
   "execution_count": 52,
   "id": "6dd9c172",
   "metadata": {},
   "outputs": [
    {
     "name": "stdout",
     "output_type": "stream",
     "text": [
      "0.3333333333333333\n",
      "0.33333334\n"
     ]
    }
   ],
   "source": [
    "import numpy as np\n",
    "x = np.float64(1/3) #将float转换成float64\n",
    "print(x)\n",
    "\n",
    "y = np.float32(x)   #将float64转换成float32\n",
    "print(y)"
   ]
  },
  {
   "cell_type": "markdown",
   "id": "f7ecf46e",
   "metadata": {},
   "source": [
    "<font face=\"黑体\" color=red size=4>**占用内存**："
   ]
  },
  {
   "cell_type": "code",
   "execution_count": 53,
   "id": "6adb60d4",
   "metadata": {},
   "outputs": [
    {
     "name": "stdout",
     "output_type": "stream",
     "text": [
      "<class 'pandas.core.frame.DataFrame'>\n",
      "RangeIndex: 6 entries, 0 to 5\n",
      "Data columns (total 1 columns):\n",
      " #   Column  Non-Null Count  Dtype  \n",
      "---  ------  --------------  -----  \n",
      " 0   0       6 non-null      float64\n",
      "dtypes: float64(1)\n",
      "memory usage: 176.0 bytes\n",
      "None\n",
      "<class 'pandas.core.frame.DataFrame'>\n",
      "RangeIndex: 6 entries, 0 to 5\n",
      "Data columns (total 1 columns):\n",
      " #   Column  Non-Null Count  Dtype  \n",
      "---  ------  --------------  -----  \n",
      " 0   0       6 non-null      float32\n",
      "dtypes: float32(1)\n",
      "memory usage: 152.0 bytes\n",
      "None\n"
     ]
    }
   ],
   "source": [
    "import pandas as pd \n",
    "data_64 = pd.DataFrame([1.2,1.4,1.5,1.6,1.7,1.8],dtype=\"float64\")\n",
    "data_32 = pd.DataFrame([1.2,1.4,1.5,1.6,1.7,1.8],dtype=\"float32\")\n",
    "\n",
    "print(data_64.info(memory_usage=True))  #查看float64占用的内存\n",
    "print(data_32.info(memory_usage=True))"
   ]
  }
 ],
 "metadata": {
  "kernelspec": {
   "display_name": "Python 3",
   "language": "python",
   "name": "python3"
  },
  "language_info": {
   "codemirror_mode": {
    "name": "ipython",
    "version": 3
   },
   "file_extension": ".py",
   "mimetype": "text/x-python",
   "name": "python",
   "nbconvert_exporter": "python",
   "pygments_lexer": "ipython3",
   "version": "3.8.8"
  }
 },
 "nbformat": 4,
 "nbformat_minor": 5
}
