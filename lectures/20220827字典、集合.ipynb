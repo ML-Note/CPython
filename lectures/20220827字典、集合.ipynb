{
 "cells": [
  {
   "cell_type": "markdown",
   "id": "c50995ff",
   "metadata": {},
   "source": [
    "# 字典\n",
    "通过名称来访问各个值的数据结构，这种数据结构称为映射。字典是Python中唯一的内置映射类型。"
   ]
  },
  {
   "cell_type": "markdown",
   "id": "c7fcae38",
   "metadata": {},
   "source": [
    "## 1.字典的创建和删除"
   ]
  },
  {
   "cell_type": "raw",
   "id": "09a12873",
   "metadata": {},
   "source": [
    "音节索引：['che','chen','cheng','chi']  \n",
    "正文汉字：['车','尘','称','吃']"
   ]
  },
  {
   "cell_type": "raw",
   "id": "9237d02d",
   "metadata": {},
   "source": [
    "dictionary = {key1:value1,key2:value2}\n",
    "一系列键-值对，每一个键和一个值相关联，使用键来访问对应的值。"
   ]
  },
  {
   "cell_type": "markdown",
   "id": "64ec0dd9",
   "metadata": {},
   "source": [
    "### 创建字典"
   ]
  },
  {
   "cell_type": "code",
   "execution_count": 3,
   "id": "0112de69",
   "metadata": {},
   "outputs": [
    {
     "name": "stdout",
     "output_type": "stream",
     "text": [
      "{'che': '车', 'chen': '尘', 'cheng': '称', 'chi': '吃'}\n"
     ]
    }
   ],
   "source": [
    "word = {'che':'车','chen':'尘','cheng':'称','chi':'吃'} #定义一个字典\n",
    "print(word)"
   ]
  },
  {
   "cell_type": "code",
   "execution_count": null,
   "id": "5848b2e9",
   "metadata": {},
   "outputs": [],
   "source": [
    "#方法二：从列表转换成字典\n",
    "key =['che','chen','cheng','chi'] #音节索引列表\n",
    "value = ['车','尘','称','吃']  #汉字列表\n",
    "zipl = zip(key,value) #转换为zip对象（将可迭代的对象作为参数，将对象中对应的元素打包成一个个元祖，然后返回由这些元组组成的列表）\n",
    "word_2 = dict(zipl) #转换为字典\n",
    "print(word_2)"
   ]
  },
  {
   "cell_type": "code",
   "execution_count": 9,
   "id": "8dac066b",
   "metadata": {},
   "outputs": [
    {
     "name": "stdout",
     "output_type": "stream",
     "text": [
      "{('che', 'chen', 'cheng', 'chi'): ['车', '尘', '称', '吃']}\n"
     ]
    }
   ],
   "source": [
    "key_2 = ('che','chen','cheng','chi') #如果键是元祖，也可以创建字典\n",
    "word_3 = {key_2:value}\n",
    "print(word_3)"
   ]
  },
  {
   "cell_type": "code",
   "execution_count": 10,
   "id": "40696741",
   "metadata": {},
   "outputs": [
    {
     "name": "stdout",
     "output_type": "stream",
     "text": [
      "{'che': '车', 'chen': '尘', 'cheng': '称', 'chi': '吃'}\n"
     ]
    }
   ],
   "source": [
    "# 方法三\n",
    "word_4 = dict(che='车',chen='尘',cheng='称',chi='吃')\n",
    "print(word_4)"
   ]
  },
  {
   "cell_type": "code",
   "execution_count": 12,
   "id": "f62c0428",
   "metadata": {},
   "outputs": [
    {
     "name": "stdout",
     "output_type": "stream",
     "text": [
      "{}\n"
     ]
    }
   ],
   "source": [
    "#创建空字典\n",
    "word_none = {}\n",
    "word_none = dict()\n",
    "print(word_none)"
   ]
  },
  {
   "cell_type": "code",
   "execution_count": 17,
   "id": "4c95942d",
   "metadata": {},
   "outputs": [
    {
     "name": "stdout",
     "output_type": "stream",
     "text": [
      "{'che': None, 'chen': None, 'cheng': None, 'chi': None}\n"
     ]
    }
   ],
   "source": [
    "#创建值为空的字典:fromkeys\n",
    "word_5 = dict.fromkeys(key)\n",
    "print(word_5)"
   ]
  },
  {
   "cell_type": "markdown",
   "id": "1d546c62",
   "metadata": {},
   "source": [
    "### 删除字典"
   ]
  },
  {
   "cell_type": "code",
   "execution_count": 18,
   "id": "ffb30bb8",
   "metadata": {},
   "outputs": [],
   "source": [
    "#del word_5 #删除整个字典\n",
    "#print(word_5)"
   ]
  },
  {
   "cell_type": "code",
   "execution_count": 19,
   "id": "e2130746",
   "metadata": {},
   "outputs": [
    {
     "name": "stdout",
     "output_type": "stream",
     "text": [
      "{}\n"
     ]
    }
   ],
   "source": [
    "word_5.clear() #清空字典里的元素\n",
    "print(word_5)"
   ]
  },
  {
   "cell_type": "markdown",
   "id": "640b03dc",
   "metadata": {},
   "source": [
    "## 2.通过键值对访问字典"
   ]
  },
  {
   "cell_type": "raw",
   "id": "eab5c01f",
   "metadata": {},
   "source": [
    "字典中通过键访问成员，无法像列表一样访问索引。"
   ]
  },
  {
   "cell_type": "code",
   "execution_count": 51,
   "id": "ac04db90",
   "metadata": {},
   "outputs": [
    {
     "name": "stdout",
     "output_type": "stream",
     "text": [
      "车\n"
     ]
    }
   ],
   "source": [
    "print(word[\"che\"])  #通过键获取相对应的值"
   ]
  },
  {
   "cell_type": "code",
   "execution_count": 21,
   "id": "6f82f5ee",
   "metadata": {},
   "outputs": [
    {
     "name": "stdout",
     "output_type": "stream",
     "text": [
      "车\n"
     ]
    }
   ],
   "source": [
    "print(word[\"che\"] if \"che\" in word else \"我的字典里没有这个字\")"
   ]
  },
  {
   "cell_type": "code",
   "execution_count": 22,
   "id": "99ff14df",
   "metadata": {},
   "outputs": [
    {
     "name": "stdout",
     "output_type": "stream",
     "text": [
      "车\n"
     ]
    }
   ],
   "source": [
    "print(word.get(\"che\")) #dictionary.get(key,[default])"
   ]
  },
  {
   "cell_type": "code",
   "execution_count": 115,
   "id": "046eb20c",
   "metadata": {},
   "outputs": [
    {
     "name": "stdout",
     "output_type": "stream",
     "text": [
      "查无此字\n"
     ]
    }
   ],
   "source": [
    "print(word.get(\"ch\",\"查无此字\"))"
   ]
  },
  {
   "cell_type": "code",
   "execution_count": 29,
   "id": "3f2f470c",
   "metadata": {},
   "outputs": [
    {
     "name": "stdout",
     "output_type": "stream",
     "text": [
      "che对应的中文是 车\n",
      "对应的英文是 car\n"
     ]
    }
   ],
   "source": [
    "English = ['car','dust','call','eat']  #对应的英文\n",
    "value_dict = dict(zip(value,English)) #转换为字典\n",
    "print(\"che对应的中文是\",word.get(\"che\")) #获取对应的中文\n",
    "print(\"对应的英文是\",value_dict.get(word.get(\"che\"))) #输出对应的英文"
   ]
  },
  {
   "cell_type": "markdown",
   "id": "4d33dc71",
   "metadata": {},
   "source": [
    "## 3.遍历字典"
   ]
  },
  {
   "cell_type": "code",
   "execution_count": 30,
   "id": "e8c89c87",
   "metadata": {},
   "outputs": [
    {
     "data": {
      "text/plain": [
       "dict_items([('che', '车'), ('chen', '尘'), ('cheng', '称'), ('chi', '吃')])"
      ]
     },
     "execution_count": 30,
     "metadata": {},
     "output_type": "execute_result"
    }
   ],
   "source": [
    "word.items() #输出的是一个列表，元素是元祖"
   ]
  },
  {
   "cell_type": "code",
   "execution_count": 31,
   "id": "772d3d57",
   "metadata": {},
   "outputs": [
    {
     "name": "stdout",
     "output_type": "stream",
     "text": [
      "('che', '车')\n",
      "('chen', '尘')\n",
      "('cheng', '称')\n",
      "('chi', '吃')\n"
     ]
    }
   ],
   "source": [
    "for item in word.items():\n",
    "    print(item) #得到元祖"
   ]
  },
  {
   "cell_type": "code",
   "execution_count": 32,
   "id": "1287c48c",
   "metadata": {},
   "outputs": [
    {
     "name": "stdout",
     "output_type": "stream",
     "text": [
      "che 的汉字是 车\n",
      "chen 的汉字是 尘\n",
      "cheng 的汉字是 称\n",
      "chi 的汉字是 吃\n"
     ]
    }
   ],
   "source": [
    "for key,value in word.items():\n",
    "    print(key,\"的汉字是\",value) #得到具体的键和值"
   ]
  },
  {
   "cell_type": "code",
   "execution_count": 33,
   "id": "c04a7e5e",
   "metadata": {},
   "outputs": [
    {
     "name": "stdout",
     "output_type": "stream",
     "text": [
      "che\n",
      "chen\n",
      "cheng\n",
      "chi\n"
     ]
    }
   ],
   "source": [
    "for key in word.keys():\n",
    "    print(key)   #得到所有键"
   ]
  },
  {
   "cell_type": "markdown",
   "id": "eb706cd7",
   "metadata": {},
   "source": [
    "### 例子：发工资"
   ]
  },
  {
   "cell_type": "code",
   "execution_count": 44,
   "id": "173068b8",
   "metadata": {},
   "outputs": [],
   "source": [
    "salary = {'大娃':350,'二娃':300,'三娃':250,'四娃':300}\n",
    "workday = {'大娃':6,'二娃':4,'三娃':5,'四娃':5}"
   ]
  },
  {
   "cell_type": "code",
   "execution_count": 117,
   "id": "5e8cc269",
   "metadata": {},
   "outputs": [
    {
     "name": "stdout",
     "output_type": "stream",
     "text": [
      "2100\n",
      "1200\n",
      "1250\n",
      "1500\n",
      "6050\n"
     ]
    }
   ],
   "source": [
    "paid = 0\n",
    "for i in salary:\n",
    "    print(salary[i]*workday[i])\n",
    "    paid = paid + (salary[i]*workday[i])\n",
    "print(paid)"
   ]
  },
  {
   "cell_type": "markdown",
   "id": "118315ee",
   "metadata": {},
   "source": [
    "## 4.添加、修改和删除字典元素"
   ]
  },
  {
   "cell_type": "code",
   "execution_count": 35,
   "id": "bb4f3cf1",
   "metadata": {},
   "outputs": [
    {
     "name": "stdout",
     "output_type": "stream",
     "text": [
      "{'che': '车', 'chen': '尘', 'cheng': '称', 'chi': '吃', 'cha': '差'}\n"
     ]
    }
   ],
   "source": [
    "word[\"cha\"] = \"差\"  #添加一个元素\n",
    "print(word)"
   ]
  },
  {
   "cell_type": "code",
   "execution_count": 36,
   "id": "06ec4ff4",
   "metadata": {},
   "outputs": [
    {
     "name": "stdout",
     "output_type": "stream",
     "text": [
      "{'che': '车', 'chen': '尘', 'cheng': '称', 'chi': '吃', 'cha': '茶'}\n"
     ]
    }
   ],
   "source": [
    "word[\"cha\"] = \"茶\"  #若添加的元素已经存在，就会修改原有元素\n",
    "print(word)"
   ]
  },
  {
   "cell_type": "code",
   "execution_count": 37,
   "id": "df834387",
   "metadata": {},
   "outputs": [
    {
     "name": "stdout",
     "output_type": "stream",
     "text": [
      "{'che': '车', 'chen': '尘', 'cheng': '称', 'chi': '吃'}\n"
     ]
    }
   ],
   "source": [
    "del word[\"cha\"] #删除元素\n",
    "print(word)"
   ]
  },
  {
   "cell_type": "markdown",
   "id": "0630fcdb",
   "metadata": {},
   "source": [
    "## 5.字典推导式"
   ]
  },
  {
   "cell_type": "code",
   "execution_count": 118,
   "id": "2a451620",
   "metadata": {},
   "outputs": [
    {
     "name": "stdout",
     "output_type": "stream",
     "text": [
      "{1: 19, 2: 77, 3: 58, 4: 59}\n"
     ]
    }
   ],
   "source": [
    "#生成随机数\n",
    "import random\n",
    "randomdict = {i:random.randint(10,100) for i in range(1,5)}\n",
    "print(randomdict)"
   ]
  },
  {
   "cell_type": "code",
   "execution_count": 86,
   "id": "c6a525dd",
   "metadata": {},
   "outputs": [
    {
     "name": "stdout",
     "output_type": "stream",
     "text": [
      "{'che': '车', 'chen': '尘', 'cheng': '称', 'chi': '吃'}\n"
     ]
    }
   ],
   "source": [
    "key =['che','chen','cheng','chi'] #音节索引列表\n",
    "value = ['车','尘','称','吃']  #汉字列表\n",
    "word_6 = {i:j for i,j in zip(key,value)} #通过字典推导式生成字典\n",
    "print(word_6) "
   ]
  },
  {
   "cell_type": "markdown",
   "id": "9734306b",
   "metadata": {},
   "source": [
    "### 实战\n",
    "有三名候选人分别叫\"Li\"、\"Zhang\"、\"Sun\"，有10名选民，每位选民投一票。\n",
    "要求：统计每位候选人的票数\n",
    "输入：Li Li Li Zhang Sun Sun Zhang Zhang Zhang Zhang"
   ]
  },
  {
   "cell_type": "code",
   "execution_count": 62,
   "id": "72b2d52b",
   "metadata": {},
   "outputs": [
    {
     "name": "stdout",
     "output_type": "stream",
     "text": [
      "Li Li Li Zhang Sun Sun Zhang Zhang Zhang Zhang\n",
      "Li 3\n",
      "Zhang 5\n",
      "Sun 2\n"
     ]
    }
   ],
   "source": [
    "dic = {\"Li\":0,\"Zhang\":0,\"Sun\":0}\n",
    "x = input().split()\n",
    "for t in x:\n",
    "    dic[t] += 1\n",
    "print(\"Li\",dic[\"Li\"])\n",
    "print(\"Zhang\",dic[\"Zhang\"])\n",
    "print(\"Sun\",dic[\"Sun\"])"
   ]
  },
  {
   "cell_type": "markdown",
   "id": "a5b10bf7",
   "metadata": {},
   "source": [
    "## 6.字典嵌套"
   ]
  },
  {
   "cell_type": "markdown",
   "id": "8eb095e1",
   "metadata": {},
   "source": [
    "### 字典存储在列表中——字典列表"
   ]
  },
  {
   "cell_type": "code",
   "execution_count": 93,
   "id": "6e9ec2f4",
   "metadata": {},
   "outputs": [],
   "source": [
    "person_1 = {'name':'Zhangsan','age':18}\n",
    "person_2 = {'name':'lisi','age':19}\n",
    "person_3 = {'name':'wangwu','age':18}"
   ]
  },
  {
   "cell_type": "code",
   "execution_count": 94,
   "id": "e417dd58",
   "metadata": {},
   "outputs": [],
   "source": [
    "persons = [person_1,person_2,person_3]  #存储在列表中"
   ]
  },
  {
   "cell_type": "code",
   "execution_count": 95,
   "id": "5b587694",
   "metadata": {},
   "outputs": [
    {
     "name": "stdout",
     "output_type": "stream",
     "text": [
      "{'name': 'Zhangsan', 'age': 18}\n",
      "{'name': 'lisi', 'age': 19}\n",
      "{'name': 'wangwu', 'age': 18}\n"
     ]
    }
   ],
   "source": [
    "for person in persons:  \n",
    "    print(person)"
   ]
  },
  {
   "cell_type": "markdown",
   "id": "a5133061",
   "metadata": {},
   "source": [
    "### 在字典中存储列表"
   ]
  },
  {
   "cell_type": "code",
   "execution_count": 96,
   "id": "011a529d",
   "metadata": {},
   "outputs": [],
   "source": [
    "person = {'name':'lisi','cities':['xian','hefei','fuzhou']}"
   ]
  },
  {
   "cell_type": "code",
   "execution_count": 97,
   "id": "094ce675",
   "metadata": {},
   "outputs": [
    {
     "name": "stdout",
     "output_type": "stream",
     "text": [
      "xian\n",
      "hefei\n",
      "fuzhou\n"
     ]
    }
   ],
   "source": [
    "for city in person['cities']:\n",
    "    print(city)"
   ]
  },
  {
   "cell_type": "markdown",
   "id": "0f93807f",
   "metadata": {},
   "source": [
    "### 在字典中存储字典"
   ]
  },
  {
   "cell_type": "code",
   "execution_count": 100,
   "id": "7e0a6903",
   "metadata": {},
   "outputs": [],
   "source": [
    "users = {'zhangsan':\n",
    "         {'first':'xian','second':'luoyang'},\n",
    "         'lisi':\n",
    "         {'first':'suzhou','second':'wuxi'}\n",
    "        }"
   ]
  },
  {
   "cell_type": "code",
   "execution_count": 101,
   "id": "195abe22",
   "metadata": {},
   "outputs": [
    {
     "name": "stdout",
     "output_type": "stream",
     "text": [
      "name: zhangsan\n",
      "cities: xian\n",
      "name: lisi\n",
      "cities: suzhou\n"
     ]
    }
   ],
   "source": [
    "for name, infor in users.items():\n",
    "    print('name:',name)\n",
    "    print('cities:',infor['first'])"
   ]
  },
  {
   "cell_type": "markdown",
   "id": "b908f871",
   "metadata": {},
   "source": [
    "# 集合"
   ]
  },
  {
   "cell_type": "markdown",
   "id": "14855268",
   "metadata": {},
   "source": [
    "集合是一个**无序、不重复**的元素序列，一般用于元祖或者列表中的元素去重。\n",
    "创建集合：\n",
    "- 1.变量名=set(元素) 字符串/列表/元祖/字典\n",
    "- 2.变量名={元素，元素，元素，，，} 数字/元祖/字符串"
   ]
  },
  {
   "cell_type": "markdown",
   "id": "c8e7a6b8",
   "metadata": {},
   "source": [
    "### 集合的创建和数据去重"
   ]
  },
  {
   "cell_type": "code",
   "execution_count": 54,
   "id": "ceb327a9",
   "metadata": {},
   "outputs": [
    {
     "name": "stdout",
     "output_type": "stream",
     "text": [
      "{'4', '1', '3', '2'}\n"
     ]
    }
   ],
   "source": [
    "#字符串\n",
    "a = set(\"1234\")\n",
    "print(a)"
   ]
  },
  {
   "cell_type": "code",
   "execution_count": 55,
   "id": "612c13e2",
   "metadata": {},
   "outputs": [
    {
     "name": "stdout",
     "output_type": "stream",
     "text": [
      "{10, 20, 30}\n"
     ]
    }
   ],
   "source": [
    "#列表\n",
    "b = set([10,20,30])\n",
    "print(b)"
   ]
  },
  {
   "cell_type": "code",
   "execution_count": 56,
   "id": "5d5efff5",
   "metadata": {},
   "outputs": [
    {
     "name": "stdout",
     "output_type": "stream",
     "text": [
      "{1, 2, 3, 4}\n"
     ]
    }
   ],
   "source": [
    "#元祖\n",
    "c = set((1,2,3,4))\n",
    "print(c)"
   ]
  },
  {
   "cell_type": "code",
   "execution_count": 58,
   "id": "449aab60",
   "metadata": {},
   "outputs": [
    {
     "name": "stdout",
     "output_type": "stream",
     "text": [
      "{1, 2, 3, (1, 2, 3), '123'}\n"
     ]
    }
   ],
   "source": [
    "#用大括号创建集合\n",
    "aa = {1,2,3,(1,2,3),\"123\"}\n",
    "print(aa)"
   ]
  },
  {
   "cell_type": "code",
   "execution_count": 59,
   "id": "d29dfe7c",
   "metadata": {},
   "outputs": [
    {
     "ename": "TypeError",
     "evalue": "unhashable type: 'list'",
     "output_type": "error",
     "traceback": [
      "\u001b[0;31m---------------------------------------------------------------------------\u001b[0m",
      "\u001b[0;31mTypeError\u001b[0m                                 Traceback (most recent call last)",
      "\u001b[0;32m<ipython-input-59-2ceceebced0e>\u001b[0m in \u001b[0;36m<module>\u001b[0;34m\u001b[0m\n\u001b[0;32m----> 1\u001b[0;31m \u001b[0mbb\u001b[0m \u001b[0;34m=\u001b[0m \u001b[0;34m{\u001b[0m\u001b[0;34m[\u001b[0m\u001b[0;36m1\u001b[0m\u001b[0;34m,\u001b[0m\u001b[0;36m2\u001b[0m\u001b[0;34m,\u001b[0m\u001b[0;36m3\u001b[0m\u001b[0;34m]\u001b[0m\u001b[0;34m}\u001b[0m\u001b[0;34m\u001b[0m\u001b[0;34m\u001b[0m\u001b[0m\n\u001b[0m\u001b[1;32m      2\u001b[0m \u001b[0mprint\u001b[0m\u001b[0;34m(\u001b[0m\u001b[0mbb\u001b[0m\u001b[0;34m)\u001b[0m\u001b[0;34m\u001b[0m\u001b[0;34m\u001b[0m\u001b[0m\n",
      "\u001b[0;31mTypeError\u001b[0m: unhashable type: 'list'"
     ]
    }
   ],
   "source": [
    "bb = {[1,2,3]}\n",
    "print(bb)  #列表 用大括号创建集合不可行"
   ]
  },
  {
   "cell_type": "code",
   "execution_count": 60,
   "id": "94b1e721",
   "metadata": {},
   "outputs": [
    {
     "ename": "TypeError",
     "evalue": "unhashable type: 'dict'",
     "output_type": "error",
     "traceback": [
      "\u001b[0;31m---------------------------------------------------------------------------\u001b[0m",
      "\u001b[0;31mTypeError\u001b[0m                                 Traceback (most recent call last)",
      "\u001b[0;32m<ipython-input-60-fef63094414e>\u001b[0m in \u001b[0;36m<module>\u001b[0;34m\u001b[0m\n\u001b[0;32m----> 1\u001b[0;31m \u001b[0mcc\u001b[0m \u001b[0;34m=\u001b[0m \u001b[0;34m{\u001b[0m\u001b[0mword\u001b[0m\u001b[0;34m}\u001b[0m\u001b[0;34m\u001b[0m\u001b[0;34m\u001b[0m\u001b[0m\n\u001b[0m\u001b[1;32m      2\u001b[0m \u001b[0mprint\u001b[0m\u001b[0;34m(\u001b[0m\u001b[0mcc\u001b[0m\u001b[0;34m)\u001b[0m\u001b[0;34m\u001b[0m\u001b[0;34m\u001b[0m\u001b[0m\n",
      "\u001b[0;31mTypeError\u001b[0m: unhashable type: 'dict'"
     ]
    }
   ],
   "source": [
    "cc = {word}\n",
    "print(cc)   #字典 用大括号创建集合不可行"
   ]
  },
  {
   "cell_type": "code",
   "execution_count": 102,
   "id": "45de752b",
   "metadata": {},
   "outputs": [
    {
     "name": "stdout",
     "output_type": "stream",
     "text": [
      "<class 'dict'>\n"
     ]
    }
   ],
   "source": [
    "a = {} #是集合还是字典？\n",
    "print(type(a))  #创建一个空集合必须用set()"
   ]
  },
  {
   "cell_type": "markdown",
   "id": "e79c4920",
   "metadata": {},
   "source": [
    "### 集合的唯一性"
   ]
  },
  {
   "cell_type": "code",
   "execution_count": 103,
   "id": "5533dd1b",
   "metadata": {},
   "outputs": [
    {
     "name": "stdout",
     "output_type": "stream",
     "text": [
      "[1, 2, 3, 4, 5, 6]\n"
     ]
    }
   ],
   "source": [
    "#列表的去重，如果不用集合要怎么操作？\n",
    "list_1 = set([1,2,3,4,5,6,3,2])\n",
    "temp = []\n",
    "for i in list_1:\n",
    "    if i not in temp:\n",
    "        temp.append(i)\n",
    "print(temp)"
   ]
  },
  {
   "cell_type": "code",
   "execution_count": 106,
   "id": "e27a7486",
   "metadata": {},
   "outputs": [
    {
     "name": "stdout",
     "output_type": "stream",
     "text": [
      "[1, 2, 3, 4, 5, 6]\n"
     ]
    }
   ],
   "source": [
    "#运用集合的唯一性完成列表的去重\n",
    "temp = list(set(list_1))\n",
    "print(temp)  "
   ]
  },
  {
   "cell_type": "markdown",
   "id": "5dea13d9",
   "metadata": {},
   "source": [
    "### 集合的无序性"
   ]
  },
  {
   "cell_type": "code",
   "execution_count": 109,
   "id": "dad59d6c",
   "metadata": {},
   "outputs": [
    {
     "ename": "TypeError",
     "evalue": "'set' object is not subscriptable",
     "output_type": "error",
     "traceback": [
      "\u001b[0;31m---------------------------------------------------------------------------\u001b[0m",
      "\u001b[0;31mTypeError\u001b[0m                                 Traceback (most recent call last)",
      "\u001b[0;32m<ipython-input-109-ffa82ee4341b>\u001b[0m in \u001b[0;36m<module>\u001b[0;34m\u001b[0m\n\u001b[0;32m----> 1\u001b[0;31m \u001b[0mprint\u001b[0m\u001b[0;34m(\u001b[0m\u001b[0mset\u001b[0m\u001b[0;34m(\u001b[0m\u001b[0mlist_1\u001b[0m\u001b[0;34m)\u001b[0m\u001b[0;34m[\u001b[0m\u001b[0;36m1\u001b[0m\u001b[0;34m]\u001b[0m\u001b[0;34m)\u001b[0m\u001b[0;34m\u001b[0m\u001b[0;34m\u001b[0m\u001b[0m\n\u001b[0m",
      "\u001b[0;31mTypeError\u001b[0m: 'set' object is not subscriptable"
     ]
    }
   ],
   "source": [
    "print(set(list_1)[1])  #不能通过下标索引取值"
   ]
  },
  {
   "cell_type": "markdown",
   "id": "e124cebb",
   "metadata": {},
   "source": [
    "### 查：访问集合中的元素"
   ]
  },
  {
   "cell_type": "code",
   "execution_count": 110,
   "id": "dde89bd1",
   "metadata": {},
   "outputs": [
    {
     "name": "stdout",
     "output_type": "stream",
     "text": [
      "1\n",
      "2\n",
      "3\n",
      "4\n",
      "5\n",
      "6\n"
     ]
    }
   ],
   "source": [
    "# 1.for循环\n",
    "set_1 = {1,2,3,4,5,6}\n",
    "for i in set_1:\n",
    "    print(i)"
   ]
  },
  {
   "cell_type": "code",
   "execution_count": null,
   "id": "3d55132a",
   "metadata": {},
   "outputs": [],
   "source": [
    "# 2.运算符：in 和 not in"
   ]
  },
  {
   "cell_type": "code",
   "execution_count": 111,
   "id": "94050998",
   "metadata": {},
   "outputs": [
    {
     "name": "stdout",
     "output_type": "stream",
     "text": [
      "True\n",
      "False\n"
     ]
    }
   ],
   "source": [
    "print(6 in set_1)\n",
    "print(7 in set_1)"
   ]
  },
  {
   "cell_type": "markdown",
   "id": "a325d215",
   "metadata": {},
   "source": [
    "### 增：集合添加元素\n",
    "- 1.add()\n",
    "- 2.update 将集合合并"
   ]
  },
  {
   "cell_type": "code",
   "execution_count": null,
   "id": "2e58159e",
   "metadata": {},
   "outputs": [],
   "source": [
    "#add\n",
    "a = {1,2,3}\n",
    "a.add((1,2,3))\n",
    "print(a)"
   ]
  },
  {
   "cell_type": "code",
   "execution_count": 65,
   "id": "11cf998a",
   "metadata": {},
   "outputs": [
    {
     "name": "stdout",
     "output_type": "stream",
     "text": [
      "{1, 2, 3, 'y', 'w', (1, 2, 3)}\n"
     ]
    }
   ],
   "source": [
    "#update\n",
    "b = {\"w\",\"y\"}\n",
    "a.update(b)\n",
    "print(a) #集合的排列是随机的"
   ]
  },
  {
   "cell_type": "markdown",
   "id": "e7113695",
   "metadata": {},
   "source": [
    "### 删：集合删除元素\n",
    "- 1.remove：删除集合中的元素，如果元素不存在会报错\n",
    "- 2.pop：随机删除集合中的元素\n",
    "- 3.discard：如果元素不存在，不做任何操作"
   ]
  },
  {
   "cell_type": "code",
   "execution_count": 66,
   "id": "109d70d5",
   "metadata": {},
   "outputs": [
    {
     "name": "stdout",
     "output_type": "stream",
     "text": [
      "{1, 2, 3, 'y', (1, 2, 3)}\n"
     ]
    }
   ],
   "source": [
    "a.remove(\"w\")\n",
    "print(a)"
   ]
  },
  {
   "cell_type": "code",
   "execution_count": 71,
   "id": "1b0e9824",
   "metadata": {},
   "outputs": [
    {
     "name": "stdout",
     "output_type": "stream",
     "text": [
      "{3, 'y', (1, 2, 3)}\n"
     ]
    }
   ],
   "source": [
    "a.pop()\n",
    "print(a) #随机删除"
   ]
  },
  {
   "cell_type": "code",
   "execution_count": 72,
   "id": "35a061f7",
   "metadata": {},
   "outputs": [
    {
     "name": "stdout",
     "output_type": "stream",
     "text": [
      "{3, 'y', (1, 2, 3)}\n"
     ]
    }
   ],
   "source": [
    "a.discard(\"s\")\n",
    "print(a) #如果删除的元素不存在，不会像remove一样报错"
   ]
  },
  {
   "cell_type": "markdown",
   "id": "23e7c94e",
   "metadata": {},
   "source": [
    "### 集合的运算\n",
    "- 1.交集：使用“&”连接多个集合，得到相同元素\n",
    "- 2.并集：使用“｜”连接多个集合，得到集合的全部数据\n",
    "- 3.差集：使用\"-\""
   ]
  },
  {
   "cell_type": "code",
   "execution_count": 112,
   "id": "718a567c",
   "metadata": {},
   "outputs": [
    {
     "name": "stdout",
     "output_type": "stream",
     "text": [
      "交集是 {1, 2} \n",
      " 并集是 {1, 2, 3, 5, 6, 7} \n",
      " 差集是 {3, 5}\n"
     ]
    }
   ],
   "source": [
    "s1 = {1,2,3,5}\n",
    "s2 = {1,2,6,7}\n",
    "s3 = s1&s2\n",
    "s4 = s1|s2\n",
    "print('交集是',s3,\"\\n\",'并集是',s4,\"\\n\",'差集是',s1-s2)"
   ]
  },
  {
   "cell_type": "markdown",
   "id": "c0c54c9a",
   "metadata": {},
   "source": [
    "### 集合生成式"
   ]
  },
  {
   "cell_type": "code",
   "execution_count": 90,
   "id": "b831f9ef",
   "metadata": {},
   "outputs": [
    {
     "name": "stdout",
     "output_type": "stream",
     "text": [
      "{0, 1, 2, 3, 4, 5, 6, 7, 8, 9}\n",
      "{0, 2, 4, 6, 8}\n"
     ]
    }
   ],
   "source": [
    "s5={i for i in range(10)}\n",
    "print(s5)\n",
    "s6={i for i in range(10) if i%2==0}\n",
    "print(s6)"
   ]
  },
  {
   "cell_type": "code",
   "execution_count": 91,
   "id": "b7cc9cbf",
   "metadata": {},
   "outputs": [
    {
     "name": "stdout",
     "output_type": "stream",
     "text": [
      "True\n"
     ]
    }
   ],
   "source": [
    "print(s6.issubset(s5))  #查看一个集合是否为另一个集合的子集"
   ]
  },
  {
   "cell_type": "markdown",
   "id": "f94ce537",
   "metadata": {},
   "source": [
    "### 可变集合和不可变集合\n",
    "集合分为两类：**可变集合**（set），**不可变集合**（frozenset）。\n",
    "不可变集合，由于其不可变特性，也可以作为一个元素被其他集合使用，或者作为字典的键。"
   ]
  },
  {
   "cell_type": "code",
   "execution_count": 113,
   "id": "9aec5397",
   "metadata": {},
   "outputs": [
    {
     "ename": "AttributeError",
     "evalue": "'frozenset' object has no attribute 'add'",
     "output_type": "error",
     "traceback": [
      "\u001b[0;31m---------------------------------------------------------------------------\u001b[0m",
      "\u001b[0;31mAttributeError\u001b[0m                            Traceback (most recent call last)",
      "\u001b[0;32m<ipython-input-113-23a7a6311ce4>\u001b[0m in \u001b[0;36m<module>\u001b[0;34m\u001b[0m\n\u001b[1;32m      1\u001b[0m \u001b[0mset_0\u001b[0m \u001b[0;34m=\u001b[0m \u001b[0mfrozenset\u001b[0m\u001b[0;34m(\u001b[0m\u001b[0;34m[\u001b[0m\u001b[0;36m1\u001b[0m\u001b[0;34m,\u001b[0m\u001b[0;36m2\u001b[0m\u001b[0;34m,\u001b[0m\u001b[0;36m3\u001b[0m\u001b[0;34m,\u001b[0m\u001b[0;36m4\u001b[0m\u001b[0;34m,\u001b[0m\u001b[0;36m5\u001b[0m\u001b[0;34m,\u001b[0m\u001b[0;36m6\u001b[0m\u001b[0;34m]\u001b[0m\u001b[0;34m)\u001b[0m\u001b[0;34m\u001b[0m\u001b[0;34m\u001b[0m\u001b[0m\n\u001b[0;32m----> 2\u001b[0;31m \u001b[0mset_0\u001b[0m\u001b[0;34m.\u001b[0m\u001b[0madd\u001b[0m\u001b[0;34m(\u001b[0m\u001b[0;36m7\u001b[0m\u001b[0;34m)\u001b[0m\u001b[0;34m\u001b[0m\u001b[0;34m\u001b[0m\u001b[0m\n\u001b[0m\u001b[1;32m      3\u001b[0m \u001b[0mprint\u001b[0m\u001b[0;34m(\u001b[0m\u001b[0mset_0\u001b[0m\u001b[0;34m)\u001b[0m\u001b[0;34m\u001b[0m\u001b[0;34m\u001b[0m\u001b[0m\n",
      "\u001b[0;31mAttributeError\u001b[0m: 'frozenset' object has no attribute 'add'"
     ]
    }
   ],
   "source": [
    "set_0 = frozenset([1,2,3,4,5,6])\n",
    "set_0.add(7)\n",
    "print(set_0) #不可变集合，增加或删除数据，都会报错"
   ]
  },
  {
   "cell_type": "markdown",
   "id": "12407892",
   "metadata": {},
   "source": [
    "### 总结：字典和集合的高效性——内部的哈希表存储结构\n",
    "字典和集合通常运用在对元素的高效查找、去重等场景。字典和集合能够如此高效，与字典、集合内部的数据结构密不可分。不同于其他数据结构，字典和集合的内部结构都是一张哈希表。"
   ]
  },
  {
   "cell_type": "raw",
   "id": "dba3daf5",
   "metadata": {},
   "source": [
    " 对于字典而言，这张表存储了哈希值（hash）、键和值这3个元素。\n",
    "而对集合来说，区别就是哈希表内没有键和值的配对，只有单一的元素了。\n",
    "hash：把任意长度的输入（字符串、数据、文件）变换成固定长度的输出，该输出就是哈希值。"
   ]
  },
  {
   "cell_type": "code",
   "execution_count": 114,
   "id": "2200b2b9",
   "metadata": {},
   "outputs": [],
   "source": [
    "workday = {'大娃':6,'二娃':4,'三娃':5,'四娃':5}"
   ]
  },
  {
   "cell_type": "markdown",
   "id": "c1f89d3f",
   "metadata": {},
   "source": [
    "字典的每个key都要先经过hash生成一段固定长度的hash值，这些数字按大小排序好放在一个列表kd里，当我们想查找”大娃”的信息时， 会把“大娃”先hash, 得到对应的值（99），然后拿这个值去到kd列表里找。只要找到了99的位置，就可以定位到大娃对应的value的值了。"
   ]
  },
  {
   "cell_type": "raw",
   "id": "ae8d8b55",
   "metadata": {},
   "source": [
    "set为何是天生去重的？\n",
    "因为每存一个值到set里时，都要先经过hash，然后通过得出的这个hash值算出应该存在set里的哪个位置。\n",
    "存的时候会先检查那个位置上有没有值，有的话就对比是否相等，如果相等，则不再存储此值。如果不相等(即为空)，则把新值存在这。"
   ]
  }
 ],
 "metadata": {
  "kernelspec": {
   "display_name": "Python 3",
   "language": "python",
   "name": "python3"
  },
  "language_info": {
   "codemirror_mode": {
    "name": "ipython",
    "version": 3
   },
   "file_extension": ".py",
   "mimetype": "text/x-python",
   "name": "python",
   "nbconvert_exporter": "python",
   "pygments_lexer": "ipython3",
   "version": "3.8.8"
  }
 },
 "nbformat": 4,
 "nbformat_minor": 5
}
