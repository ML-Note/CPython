{
 "cells": [
  {
   "cell_type": "markdown",
   "metadata": {},
   "source": [
    "# 模块导入"
   ]
  },
  {
   "cell_type": "markdown",
   "metadata": {},
   "source": [
    "**容器**（列表、元组、字符串）：数据的封装  \n",
    "**函数**：语句的封装  \n",
    "**类**：方法和属性的封装  \n",
    "**模块**：模块就是程序，我们之前写的任何一个代码都是模块（.py都是独立的模块）"
   ]
  },
  {
   "cell_type": "markdown",
   "metadata": {},
   "source": [
    "导入模块：  \n",
    "1.import 模块名  \n",
    "2.from 模块名 import 函数名（通配符*导入模块里的所有函数方法）  \n",
    "3.import 模块名 as 新名字  \n",
    "\n",
    "import module_name  \n",
    "module_name.function_name  \n",
    "module_name.class_name  "
   ]
  },
  {
   "cell_type": "code",
   "execution_count": 1,
   "metadata": {},
   "outputs": [
    {
     "name": "stdout",
     "output_type": "stream",
     "text": [
      "<module 'os' from 'D:\\\\Anoconda\\\\lib\\\\os.py'>\n",
      "<module 'pandas' from 'D:\\\\Anoconda\\\\lib\\\\site-packages\\\\pandas\\\\__init__.py'>\n"
     ]
    }
   ],
   "source": [
    "import os\n",
    "import pandas\n",
    "print(os)\n",
    "print(pandas)"
   ]
  },
  {
   "cell_type": "code",
   "execution_count": 2,
   "metadata": {},
   "outputs": [
    {
     "name": "stdout",
     "output_type": "stream",
     "text": [
      "<class 'module'>\n",
      "<class 'module'>\n"
     ]
    }
   ],
   "source": [
    "print(type(os))\n",
    "print(type(pandas))"
   ]
  },
  {
   "cell_type": "code",
   "execution_count": 1,
   "metadata": {},
   "outputs": [
    {
     "name": "stdout",
     "output_type": "stream",
     "text": [
      "测试，0摄氏度=32.00华氏度\n",
      "测试，0华氏度=-17.78摄氏度\n",
      "32摄氏度=89.60华氏度\n",
      "99华氏度=37.22摄氏度\n"
     ]
    }
   ],
   "source": [
    "import TemperatureConvert as tc\n",
    "\n",
    "print(\"32摄氏度=%.2f华氏度\"%tc.c2f(32))\n",
    "print(\"99华氏度=%.2f摄氏度\"%tc.f2c(99))"
   ]
  },
  {
   "cell_type": "code",
   "execution_count": 2,
   "metadata": {},
   "outputs": [
    {
     "data": {
      "text/plain": [
       "'__main__'"
      ]
     },
     "execution_count": 2,
     "metadata": {},
     "output_type": "execute_result"
    }
   ],
   "source": [
    "#为避免出现test在不必要的时候出现，引入\n",
    "__name__"
   ]
  },
  {
   "cell_type": "code",
   "execution_count": 3,
   "metadata": {},
   "outputs": [
    {
     "data": {
      "text/plain": [
       "'TemperatureConvert'"
      ]
     },
     "execution_count": 3,
     "metadata": {},
     "output_type": "execute_result"
    }
   ],
   "source": [
    "tc.__name__"
   ]
  },
  {
   "cell_type": "code",
   "execution_count": 5,
   "metadata": {},
   "outputs": [
    {
     "name": "stdout",
     "output_type": "stream",
     "text": [
      "\f",
      "\n"
     ]
    }
   ],
   "source": [
    "clear"
   ]
  },
  {
   "cell_type": "code",
   "execution_count": 6,
   "metadata": {},
   "outputs": [
    {
     "name": "stdout",
     "output_type": "stream",
     "text": [
      "32摄氏度=89.60华氏度\n",
      "99华氏度=37.22摄氏度\n"
     ]
    }
   ],
   "source": [
    "import TemperatureConvert as tc\n",
    "\n",
    "print(\"32摄氏度=%.2f华氏度\"%tc.c2f(32))\n",
    "print(\"99华氏度=%.2f摄氏度\"%tc.f2c(99))"
   ]
  },
  {
   "cell_type": "markdown",
   "metadata": {},
   "source": [
    "### 搜索路径"
   ]
  },
  {
   "cell_type": "code",
   "execution_count": 1,
   "metadata": {},
   "outputs": [
    {
     "data": {
      "text/plain": [
       "['C:\\\\Users\\\\高婧婧',\n",
       " 'D:\\\\Anoconda\\\\python38.zip',\n",
       " 'D:\\\\Anoconda\\\\DLLs',\n",
       " 'D:\\\\Anoconda\\\\lib',\n",
       " 'D:\\\\Anoconda',\n",
       " '',\n",
       " 'D:\\\\Anoconda\\\\lib\\\\site-packages',\n",
       " 'D:\\\\Anoconda\\\\lib\\\\site-packages\\\\win32',\n",
       " 'D:\\\\Anoconda\\\\lib\\\\site-packages\\\\win32\\\\lib',\n",
       " 'D:\\\\Anoconda\\\\lib\\\\site-packages\\\\Pythonwin',\n",
       " 'D:\\\\Anoconda\\\\lib\\\\site-packages\\\\IPython\\\\extensions',\n",
       " 'C:\\\\Users\\\\高婧婧\\\\.ipython']"
      ]
     },
     "execution_count": 1,
     "metadata": {},
     "output_type": "execute_result"
    }
   ],
   "source": [
    "import sys\n",
    "sys.path"
   ]
  },
  {
   "cell_type": "code",
   "execution_count": 9,
   "metadata": {},
   "outputs": [],
   "source": [
    "import TemperatureConvert"
   ]
  },
  {
   "cell_type": "code",
   "execution_count": 11,
   "metadata": {},
   "outputs": [
    {
     "data": {
      "text/plain": [
       "89.6"
      ]
     },
     "execution_count": 11,
     "metadata": {},
     "output_type": "execute_result"
    }
   ],
   "source": [
    "TemperatureConvert.c2f(32)"
   ]
  },
  {
   "cell_type": "markdown",
   "metadata": {},
   "source": [
    "### 包（package）"
   ]
  },
  {
   "cell_type": "markdown",
   "metadata": {},
   "source": [
    "1.创建一个文件夹，用于存放相关的模块，文件夹的名字即包的名字；  \n",
    "2.在文件夹中创建一个__init__.py的模块文件，内容可以为空；  \n",
    "3.将相关的模块放入文件夹中  \n",
    "\n",
    "调用时：import 包名.模块名"
   ]
  },
  {
   "cell_type": "markdown",
   "metadata": {},
   "source": [
    "Python标准库（包含一般任务所需要的模块）  \n",
    "\n",
    "https://docs.python.org/3.8/  \n",
    "\n",
    "其中，Library Reference列出了python所有内置函数和标准库模块的用法（字典查法）；Installing Python Modules表明如何安装第三方模块；Language Reference讨论python的语法和设计"
   ]
  },
  {
   "cell_type": "code",
   "execution_count": 12,
   "metadata": {},
   "outputs": [],
   "source": [
    "import timeit"
   ]
  },
  {
   "cell_type": "code",
   "execution_count": 13,
   "metadata": {},
   "outputs": [
    {
     "data": {
      "text/plain": [
       "\"Tool for measuring execution time of small code snippets.\\n\\nThis module avoids a number of common traps for measuring execution\\ntimes.  See also Tim Peters' introduction to the Algorithms chapter in\\nthe Python Cookbook, published by O'Reilly.\\n\\nLibrary usage: see the Timer class.\\n\\nCommand line usage:\\n    python timeit.py [-n N] [-r N] [-s S] [-p] [-h] [--] [statement]\\n\\nOptions:\\n  -n/--number N: how many times to execute 'statement' (default: see below)\\n  -r/--repeat N: how many times to repeat the timer (default 5)\\n  -s/--setup S: statement to be executed once initially (default 'pass').\\n                Execution time of this setup statement is NOT timed.\\n  -p/--process: use time.process_time() (default is time.perf_counter())\\n  -v/--verbose: print raw timing results; repeat for more digits precision\\n  -u/--unit: set the output time unit (nsec, usec, msec, or sec)\\n  -h/--help: print this usage message and exit\\n  --: separate options from statement, use when statement starts with -\\n  statement: statement to be timed (default 'pass')\\n\\nA multi-line statement may be given by specifying each line as a\\nseparate argument; indented lines are possible by enclosing an\\nargument in quotes and using leading spaces.  Multiple -s options are\\ntreated similarly.\\n\\nIf -n is not given, a suitable number of loops is calculated by trying\\nincreasing numbers from the sequence 1, 2, 5, 10, 20, 50, ... until the\\ntotal time is at least 0.2 seconds.\\n\\nNote: there is a certain baseline overhead associated with executing a\\npass statement.  It differs between versions.  The code here doesn't try\\nto hide it, but you should be aware of it.  The baseline overhead can be\\nmeasured by invoking the program without arguments.\\n\\nClasses:\\n\\n    Timer\\n\\nFunctions:\\n\\n    timeit(string, string) -> float\\n    repeat(string, string) -> list\\n    default_timer() -> float\\n\\n\""
      ]
     },
     "execution_count": 13,
     "metadata": {},
     "output_type": "execute_result"
    }
   ],
   "source": [
    "timeit.__doc__\n",
    "#查看模块简介"
   ]
  },
  {
   "cell_type": "code",
   "execution_count": 14,
   "metadata": {},
   "outputs": [
    {
     "name": "stdout",
     "output_type": "stream",
     "text": [
      "Tool for measuring execution time of small code snippets.\n",
      "\n",
      "This module avoids a number of common traps for measuring execution\n",
      "times.  See also Tim Peters' introduction to the Algorithms chapter in\n",
      "the Python Cookbook, published by O'Reilly.\n",
      "\n",
      "Library usage: see the Timer class.\n",
      "\n",
      "Command line usage:\n",
      "    python timeit.py [-n N] [-r N] [-s S] [-p] [-h] [--] [statement]\n",
      "\n",
      "Options:\n",
      "  -n/--number N: how many times to execute 'statement' (default: see below)\n",
      "  -r/--repeat N: how many times to repeat the timer (default 5)\n",
      "  -s/--setup S: statement to be executed once initially (default 'pass').\n",
      "                Execution time of this setup statement is NOT timed.\n",
      "  -p/--process: use time.process_time() (default is time.perf_counter())\n",
      "  -v/--verbose: print raw timing results; repeat for more digits precision\n",
      "  -u/--unit: set the output time unit (nsec, usec, msec, or sec)\n",
      "  -h/--help: print this usage message and exit\n",
      "  --: separate options from statement, use when statement starts with -\n",
      "  statement: statement to be timed (default 'pass')\n",
      "\n",
      "A multi-line statement may be given by specifying each line as a\n",
      "separate argument; indented lines are possible by enclosing an\n",
      "argument in quotes and using leading spaces.  Multiple -s options are\n",
      "treated similarly.\n",
      "\n",
      "If -n is not given, a suitable number of loops is calculated by trying\n",
      "increasing numbers from the sequence 1, 2, 5, 10, 20, 50, ... until the\n",
      "total time is at least 0.2 seconds.\n",
      "\n",
      "Note: there is a certain baseline overhead associated with executing a\n",
      "pass statement.  It differs between versions.  The code here doesn't try\n",
      "to hide it, but you should be aware of it.  The baseline overhead can be\n",
      "measured by invoking the program without arguments.\n",
      "\n",
      "Classes:\n",
      "\n",
      "    Timer\n",
      "\n",
      "Functions:\n",
      "\n",
      "    timeit(string, string) -> float\n",
      "    repeat(string, string) -> list\n",
      "    default_timer() -> float\n",
      "\n",
      "\n"
     ]
    }
   ],
   "source": [
    "print(timeit.__doc__)\n",
    "#阅读更方便，换行间隔打印出"
   ]
  },
  {
   "cell_type": "code",
   "execution_count": 15,
   "metadata": {},
   "outputs": [
    {
     "data": {
      "text/plain": [
       "['Timer',\n",
       " '__all__',\n",
       " '__builtins__',\n",
       " '__cached__',\n",
       " '__doc__',\n",
       " '__file__',\n",
       " '__loader__',\n",
       " '__name__',\n",
       " '__package__',\n",
       " '__spec__',\n",
       " '_globals',\n",
       " 'default_number',\n",
       " 'default_repeat',\n",
       " 'default_timer',\n",
       " 'dummy_src_name',\n",
       " 'gc',\n",
       " 'itertools',\n",
       " 'main',\n",
       " 'reindent',\n",
       " 'repeat',\n",
       " 'sys',\n",
       " 'template',\n",
       " 'time',\n",
       " 'timeit']"
      ]
     },
     "execution_count": 15,
     "metadata": {},
     "output_type": "execute_result"
    }
   ],
   "source": [
    "dir(timeit)"
   ]
  },
  {
   "cell_type": "code",
   "execution_count": 16,
   "metadata": {},
   "outputs": [
    {
     "data": {
      "text/plain": [
       "['Timer', 'timeit', 'repeat', 'default_timer']"
      ]
     },
     "execution_count": 16,
     "metadata": {},
     "output_type": "execute_result"
    }
   ],
   "source": [
    "timeit.__all__\n",
    "#显示模块可供外界调用的所有信息，一个类，三个函数\n",
    "#并非所有的函数都有all属性"
   ]
  },
  {
   "cell_type": "code",
   "execution_count": 17,
   "metadata": {},
   "outputs": [],
   "source": [
    "from timeit import *\n",
    "#导入的是all属性列表里的内容"
   ]
  },
  {
   "cell_type": "code",
   "execution_count": 18,
   "metadata": {},
   "outputs": [
    {
     "data": {
      "text/plain": [
       "timeit.Timer"
      ]
     },
     "execution_count": 18,
     "metadata": {},
     "output_type": "execute_result"
    }
   ],
   "source": [
    "Timer"
   ]
  },
  {
   "cell_type": "code",
   "execution_count": 19,
   "metadata": {},
   "outputs": [
    {
     "ename": "NameError",
     "evalue": "name 'gc' is not defined",
     "output_type": "error",
     "traceback": [
      "\u001b[1;31m---------------------------------------------------------------------------\u001b[0m",
      "\u001b[1;31mNameError\u001b[0m                                 Traceback (most recent call last)",
      "\u001b[1;32m<ipython-input-19-c785b2e89196>\u001b[0m in \u001b[0;36m<module>\u001b[1;34m\u001b[0m\n\u001b[1;32m----> 1\u001b[1;33m \u001b[0mgc\u001b[0m\u001b[1;33m\u001b[0m\u001b[1;33m\u001b[0m\u001b[0m\n\u001b[0m",
      "\u001b[1;31mNameError\u001b[0m: name 'gc' is not defined"
     ]
    }
   ],
   "source": [
    "gc"
   ]
  },
  {
   "cell_type": "markdown",
   "metadata": {},
   "source": [
    "__file__属性指明了该模块的源代码所在的位置"
   ]
  },
  {
   "cell_type": "code",
   "execution_count": 21,
   "metadata": {},
   "outputs": [
    {
     "data": {
      "text/plain": [
       "'D:\\\\Anoconda\\\\lib\\\\timeit.py'"
      ]
     },
     "execution_count": 21,
     "metadata": {},
     "output_type": "execute_result"
    }
   ],
   "source": [
    "import timeit\n",
    "timeit.__file__"
   ]
  },
  {
   "cell_type": "code",
   "execution_count": 22,
   "metadata": {},
   "outputs": [
    {
     "name": "stdout",
     "output_type": "stream",
     "text": [
      "Help on module timeit:\n",
      "\n",
      "NAME\n",
      "    timeit - Tool for measuring execution time of small code snippets.\n",
      "\n",
      "MODULE REFERENCE\n",
      "    https://docs.python.org/3.8/library/timeit\n",
      "    \n",
      "    The following documentation is automatically generated from the Python\n",
      "    source files.  It may be incomplete, incorrect or include features that\n",
      "    are considered implementation detail and may vary between Python\n",
      "    implementations.  When in doubt, consult the module reference at the\n",
      "    location listed above.\n",
      "\n",
      "DESCRIPTION\n",
      "    This module avoids a number of common traps for measuring execution\n",
      "    times.  See also Tim Peters' introduction to the Algorithms chapter in\n",
      "    the Python Cookbook, published by O'Reilly.\n",
      "    \n",
      "    Library usage: see the Timer class.\n",
      "    \n",
      "    Command line usage:\n",
      "        python timeit.py [-n N] [-r N] [-s S] [-p] [-h] [--] [statement]\n",
      "    \n",
      "    Options:\n",
      "      -n/--number N: how many times to execute 'statement' (default: see below)\n",
      "      -r/--repeat N: how many times to repeat the timer (default 5)\n",
      "      -s/--setup S: statement to be executed once initially (default 'pass').\n",
      "                    Execution time of this setup statement is NOT timed.\n",
      "      -p/--process: use time.process_time() (default is time.perf_counter())\n",
      "      -v/--verbose: print raw timing results; repeat for more digits precision\n",
      "      -u/--unit: set the output time unit (nsec, usec, msec, or sec)\n",
      "      -h/--help: print this usage message and exit\n",
      "      --: separate options from statement, use when statement starts with -\n",
      "      statement: statement to be timed (default 'pass')\n",
      "    \n",
      "    A multi-line statement may be given by specifying each line as a\n",
      "    separate argument; indented lines are possible by enclosing an\n",
      "    argument in quotes and using leading spaces.  Multiple -s options are\n",
      "    treated similarly.\n",
      "    \n",
      "    If -n is not given, a suitable number of loops is calculated by trying\n",
      "    increasing numbers from the sequence 1, 2, 5, 10, 20, 50, ... until the\n",
      "    total time is at least 0.2 seconds.\n",
      "    \n",
      "    Note: there is a certain baseline overhead associated with executing a\n",
      "    pass statement.  It differs between versions.  The code here doesn't try\n",
      "    to hide it, but you should be aware of it.  The baseline overhead can be\n",
      "    measured by invoking the program without arguments.\n",
      "    \n",
      "    Classes:\n",
      "    \n",
      "        Timer\n",
      "    \n",
      "    Functions:\n",
      "    \n",
      "        timeit(string, string) -> float\n",
      "        repeat(string, string) -> list\n",
      "        default_timer() -> float\n",
      "\n",
      "CLASSES\n",
      "    builtins.object\n",
      "        Timer\n",
      "    \n",
      "    class Timer(builtins.object)\n",
      "     |  Timer(stmt='pass', setup='pass', timer=<built-in function perf_counter>, globals=None)\n",
      "     |  \n",
      "     |  Class for timing execution speed of small code snippets.\n",
      "     |  \n",
      "     |  The constructor takes a statement to be timed, an additional\n",
      "     |  statement used for setup, and a timer function.  Both statements\n",
      "     |  default to 'pass'; the timer function is platform-dependent (see\n",
      "     |  module doc string).  If 'globals' is specified, the code will be\n",
      "     |  executed within that namespace (as opposed to inside timeit's\n",
      "     |  namespace).\n",
      "     |  \n",
      "     |  To measure the execution time of the first statement, use the\n",
      "     |  timeit() method.  The repeat() method is a convenience to call\n",
      "     |  timeit() multiple times and return a list of results.\n",
      "     |  \n",
      "     |  The statements may contain newlines, as long as they don't contain\n",
      "     |  multi-line string literals.\n",
      "     |  \n",
      "     |  Methods defined here:\n",
      "     |  \n",
      "     |  __init__(self, stmt='pass', setup='pass', timer=<built-in function perf_counter>, globals=None)\n",
      "     |      Constructor.  See class doc string.\n",
      "     |  \n",
      "     |  autorange(self, callback=None)\n",
      "     |      Return the number of loops and time taken so that total time >= 0.2.\n",
      "     |      \n",
      "     |      Calls the timeit method with increasing numbers from the sequence\n",
      "     |      1, 2, 5, 10, 20, 50, ... until the time taken is at least 0.2\n",
      "     |      second.  Returns (number, time_taken).\n",
      "     |      \n",
      "     |      If *callback* is given and is not None, it will be called after\n",
      "     |      each trial with two arguments: ``callback(number, time_taken)``.\n",
      "     |  \n",
      "     |  print_exc(self, file=None)\n",
      "     |      Helper to print a traceback from the timed code.\n",
      "     |      \n",
      "     |      Typical use:\n",
      "     |      \n",
      "     |          t = Timer(...)       # outside the try/except\n",
      "     |          try:\n",
      "     |              t.timeit(...)    # or t.repeat(...)\n",
      "     |          except:\n",
      "     |              t.print_exc()\n",
      "     |      \n",
      "     |      The advantage over the standard traceback is that source lines\n",
      "     |      in the compiled template will be displayed.\n",
      "     |      \n",
      "     |      The optional file argument directs where the traceback is\n",
      "     |      sent; it defaults to sys.stderr.\n",
      "     |  \n",
      "     |  repeat(self, repeat=5, number=1000000)\n",
      "     |      Call timeit() a few times.\n",
      "     |      \n",
      "     |      This is a convenience function that calls the timeit()\n",
      "     |      repeatedly, returning a list of results.  The first argument\n",
      "     |      specifies how many times to call timeit(), defaulting to 5;\n",
      "     |      the second argument specifies the timer argument, defaulting\n",
      "     |      to one million.\n",
      "     |      \n",
      "     |      Note: it's tempting to calculate mean and standard deviation\n",
      "     |      from the result vector and report these.  However, this is not\n",
      "     |      very useful.  In a typical case, the lowest value gives a\n",
      "     |      lower bound for how fast your machine can run the given code\n",
      "     |      snippet; higher values in the result vector are typically not\n",
      "     |      caused by variability in Python's speed, but by other\n",
      "     |      processes interfering with your timing accuracy.  So the min()\n",
      "     |      of the result is probably the only number you should be\n",
      "     |      interested in.  After that, you should look at the entire\n",
      "     |      vector and apply common sense rather than statistics.\n",
      "     |  \n",
      "     |  timeit(self, number=1000000)\n",
      "     |      Time 'number' executions of the main statement.\n",
      "     |      \n",
      "     |      To be precise, this executes the setup statement once, and\n",
      "     |      then returns the time it takes to execute the main statement\n",
      "     |      a number of times, as a float measured in seconds.  The\n",
      "     |      argument is the number of times through the loop, defaulting\n",
      "     |      to one million.  The main statement, the setup statement and\n",
      "     |      the timer function to be used are passed to the constructor.\n",
      "     |  \n",
      "     |  ----------------------------------------------------------------------\n",
      "     |  Data descriptors defined here:\n",
      "     |  \n",
      "     |  __dict__\n",
      "     |      dictionary for instance variables (if defined)\n",
      "     |  \n",
      "     |  __weakref__\n",
      "     |      list of weak references to the object (if defined)\n",
      "\n",
      "FUNCTIONS\n",
      "    default_timer = perf_counter(...)\n",
      "        perf_counter() -> float\n",
      "        \n",
      "        Performance counter for benchmarking.\n",
      "    \n",
      "    repeat(stmt='pass', setup='pass', timer=<built-in function perf_counter>, repeat=5, number=1000000, globals=None)\n",
      "        Convenience function to create Timer object and call repeat method.\n",
      "    \n",
      "    timeit(stmt='pass', setup='pass', timer=<built-in function perf_counter>, number=1000000, globals=None)\n",
      "        Convenience function to create Timer object and call timeit method.\n",
      "\n",
      "DATA\n",
      "    __all__ = ['Timer', 'timeit', 'repeat', 'default_timer']\n",
      "\n",
      "FILE\n",
      "    d:\\anoconda\\lib\\timeit.py\n",
      "\n",
      "\n"
     ]
    }
   ],
   "source": [
    "help(timeit)\n",
    "#写明各个函数的具体用法"
   ]
  },
  {
   "cell_type": "code",
   "execution_count": null,
   "metadata": {},
   "outputs": [],
   "source": []
  }
 ],
 "metadata": {
  "kernelspec": {
   "display_name": "Python 3",
   "language": "python",
   "name": "python3"
  },
  "language_info": {
   "codemirror_mode": {
    "name": "ipython",
    "version": 3
   },
   "file_extension": ".py",
   "mimetype": "text/x-python",
   "name": "python",
   "nbconvert_exporter": "python",
   "pygments_lexer": "ipython3",
   "version": "3.8.3"
  }
 },
 "nbformat": 4,
 "nbformat_minor": 4
}
