{
 "cells": [
  {
   "cell_type": "markdown",
   "id": "7a671bf6",
   "metadata": {},
   "source": [
    "## 字符串基础"
   ]
  },
  {
   "cell_type": "markdown",
   "id": "12af1e41",
   "metadata": {},
   "source": [
    "字符串采用不同的编码，底层的结构体实例所占用的额外内存是不一样的。其实本质上是，字符串会根据编码的不同，而选择不同的存储单元。\n",
    "\n",
    "unicode内部的存储结构会因字符而异，那么unicode底层就必须有成员来维护相应的信息，所以Python内部定义了若干标志位：\n"
   ]
  },
  {
   "cell_type": "markdown",
   "id": "4a35af07",
   "metadata": {},
   "source": [
    "- interned：是否被intern机制维护，这个机制我们会在后面介绍\n",
    "- kind：类型，用于区分底层存储单元的大小。如果是Latin1编码,那么就是1；UCS2编码则是2；UCS4编码则是4\n",
    "- compact：内存分配方式，对象与文本缓冲区是否分离\n",
    "- ascii：字符串是否是纯ASCII字符串, 如果是则为1, 否则为0。注意: 只有对应的ASCII码为`0~127`之间的才是ASCII字符。所以虽然一个字节可表示的范围是`0~255`，但是`128~255`之间的并不是ASCII字符"
   ]
  },
  {
   "cell_type": "markdown",
   "id": "b49af281",
   "metadata": {},
   "source": [
    "另外在学习爬虫时，我们了解到`encoding` 包括 `utf-8`; `Latin1`"
   ]
  },
  {
   "cell_type": "markdown",
   "id": "71694d43",
   "metadata": {},
   "source": [
    "## 创建字符串"
   ]
  },
  {
   "cell_type": "markdown",
   "id": "0bd9b69a",
   "metadata": {},
   "source": [
    "str对象可以编码成bytes对象，bytes对象可以解码成str对象。"
   ]
  },
  {
   "cell_type": "code",
   "execution_count": 1,
   "id": "ac5dbd69",
   "metadata": {},
   "outputs": [
    {
     "name": "stdout",
     "output_type": "stream",
     "text": [
      "I'm a XMUer!\n",
      "I'm a 'SOEer'!\n",
      "\n",
      "    I'm a 'SOEer'!\n",
      "    \n",
      "I'm a 'WISER'!\n",
      "I'm a {'WISER'}!\n"
     ]
    }
   ],
   "source": [
    "colleage = 'WISER'\n",
    "\n",
    "a = \"I'm a XMUer!\"          # 打印引号\n",
    "b = \"I'm a 'SOEer'!\"\n",
    "c = \"\"\"\n",
    "    I'm a 'SOEer'!\n",
    "    \"\"\"    # 打印引号\n",
    "\n",
    "d =  f\"I'm a {colleage!r}!\" # 打印引号， ref：https://mp.weixin.qq.com/s/TdqrMdkzlSgmY2EpNfQtmg\n",
    "e =  f\"I'm a {({colleage})!r}!\" # 打印引号 + 花括号\n",
    "print(a)\n",
    "print(b)\n",
    "print(c)\n",
    "print(d)\n",
    "print(e)"
   ]
  },
  {
   "cell_type": "markdown",
   "id": "06557b08",
   "metadata": {},
   "source": [
    "#### 转义字符"
   ]
  },
  {
   "cell_type": "markdown",
   "id": "b18f9df0",
   "metadata": {},
   "source": [
    "`\\r`: 回车符； `\\n` 换行符"
   ]
  },
  {
   "cell_type": "code",
   "execution_count": 2,
   "id": "8d1d5073",
   "metadata": {},
   "outputs": [
    {
     "name": "stdout",
     "output_type": "stream",
     "text": [
      "I\n",
      " love\t XMU \\ SOE \\& WISE  & \"CISE ' \r\n"
     ]
    }
   ],
   "source": [
    "str_ = 'I\\n love\\t XMU \\\\ SOE \\& WISE  & \\\"CISE \\' \\r'\n",
    "print(str_)"
   ]
  },
  {
   "cell_type": "markdown",
   "id": "7ed30a99",
   "metadata": {},
   "source": [
    "常备忽视的两个内置函数： \n",
    "\n",
    "- `ord()` 可以把字符转换成对应的 Unicode 码\n",
    "- `chr()` 可以把十进制数字转换成对应的字符"
   ]
  },
  {
   "cell_type": "code",
   "execution_count": 3,
   "id": "b8a6212e",
   "metadata": {},
   "outputs": [
    {
     "name": "stdout",
     "output_type": "stream",
     "text": [
      "ord('A') 65\n",
      "chr(65) A\n"
     ]
    }
   ],
   "source": [
    "print(\"ord('A')\", ord('A'))\n",
    "print(\"chr(65)\", chr(65))"
   ]
  },
  {
   "cell_type": "markdown",
   "id": "02656192",
   "metadata": {},
   "source": [
    "# 字符串的操作"
   ]
  },
  {
   "cell_type": "markdown",
   "id": "10161e1e",
   "metadata": {},
   "source": [
    "### 1 字符串的相加\n",
    "\n",
    "字符串相加会执行PyUnicode_Concat这个操作，将两个字符串组合成一个新的字符串。\n",
    "\n",
    "因此如果我们要拼接大量的`PyUnicodeObject`，那么使用`join`列表或者元组的方式；如果数量不多，还是可以使用`+`的，毕竟维护一个列表也是需要资源的。"
   ]
  },
  {
   "cell_type": "code",
   "execution_count": 4,
   "id": "7124cd1a",
   "metadata": {},
   "outputs": [
    {
     "name": "stdout",
     "output_type": "stream",
     "text": [
      "['x', 'm', 'u']\n"
     ]
    },
    {
     "data": {
      "text/plain": [
       "['xmu']"
      ]
     },
     "execution_count": 4,
     "metadata": {},
     "output_type": "execute_result"
    }
   ],
   "source": [
    "print(list('xmu'))\n",
    "['xmu']"
   ]
  },
  {
   "cell_type": "code",
   "execution_count": 5,
   "id": "e5559b89",
   "metadata": {},
   "outputs": [],
   "source": [
    "def test1(n):\n",
    "    result = \"\"\n",
    "    for i in range(n):\n",
    "            result += \"FishC\"\n",
    "    return result\n",
    "\n",
    "def test2(n):\n",
    "    str_list = []\n",
    "    for i in range(n):\n",
    "            str_list.append(\"FishC\")\n",
    "    return \"\".join(str_list)"
   ]
  },
  {
   "cell_type": "code",
   "execution_count": 6,
   "id": "f7be611b",
   "metadata": {},
   "outputs": [
    {
     "name": "stdout",
     "output_type": "stream",
     "text": [
      "6.21 s ± 519 ms per loop (mean ± std. dev. of 7 runs, 1 loop each)\n"
     ]
    }
   ],
   "source": [
    "%%timeit\n",
    "test1(100000000)"
   ]
  },
  {
   "cell_type": "code",
   "execution_count": 7,
   "id": "4b514a5c",
   "metadata": {},
   "outputs": [
    {
     "name": "stdout",
     "output_type": "stream",
     "text": [
      "507 ms ± 6.77 ms per loop (mean ± std. dev. of 7 runs, 1 loop each)\n"
     ]
    }
   ],
   "source": [
    "%%timeit\n",
    "test2(10000000)"
   ]
  },
  {
   "cell_type": "code",
   "execution_count": 8,
   "id": "177315ec",
   "metadata": {},
   "outputs": [
    {
     "name": "stdout",
     "output_type": "stream",
     "text": [
      "I love Python & FishC."
     ]
    }
   ],
   "source": [
    "words = [\"I\", \"love\", \"Python\", \"&\", \"FishC\"]\n",
    "print(\" \".join(words), end='.')"
   ]
  },
  {
   "cell_type": "markdown",
   "id": "82c0df58",
   "metadata": {},
   "source": [
    "### 2 字符串的encode操作\n",
    "\n",
    "`PyUnicode_AsEncodedString` 函数会根据`encoding`参数的不同，而调用不同的函数。比如指定为`utf-8`，那么会调用`_PyUnicode_AsUTF8String`。\n"
   ]
  },
  {
   "cell_type": "code",
   "execution_count": 9,
   "id": "0835c7c9",
   "metadata": {},
   "outputs": [
    {
     "data": {
      "text/plain": [
       "['n', 'h', 'o', '.']"
      ]
     },
     "execution_count": 9,
     "metadata": {},
     "output_type": "execute_result"
    }
   ],
   "source": [
    "s1 = \"FishC.com.cn\"\n",
    "s2 = \"python.org\"\n",
    "list(set(s1) & set(s2))"
   ]
  },
  {
   "cell_type": "code",
   "execution_count": 10,
   "id": "d779190a",
   "metadata": {},
   "outputs": [
    {
     "data": {
      "text/plain": [
       "{'.', 'C', 'F', 'c', 'h', 'i', 'm', 'n', 'o', 's'}"
      ]
     },
     "execution_count": 10,
     "metadata": {},
     "output_type": "execute_result"
    }
   ],
   "source": [
    "set(s1)"
   ]
  },
  {
   "cell_type": "code",
   "execution_count": 11,
   "id": "f9be5a22",
   "metadata": {},
   "outputs": [
    {
     "data": {
      "text/plain": [
       "['F', 'i', 's', 'h', 'C', '.', 'c', 'o', 'm', '.', 'c', 'n']"
      ]
     },
     "execution_count": 11,
     "metadata": {},
     "output_type": "execute_result"
    }
   ],
   "source": [
    "list(s1)"
   ]
  },
  {
   "cell_type": "markdown",
   "id": "0f6a17ec",
   "metadata": {},
   "source": [
    "### 3 字符串与Json"
   ]
  },
  {
   "cell_type": "code",
   "execution_count": 12,
   "id": "fe0f81a2",
   "metadata": {},
   "outputs": [
    {
     "name": "stdout",
     "output_type": "stream",
     "text": [
      "<class 'str'>\n",
      "<class 'list'>\n",
      "[{'name': 'Tom', 'gender': 'male'}, {'name': 'Jack', 'gender': 'male'}]\n"
     ]
    }
   ],
   "source": [
    "import json\n",
    "\n",
    "str = \"\"\"\n",
    "    [{\n",
    "        \"name\": \"Tom\",\n",
    "        \"gender\": \"male\"\n",
    "    }, {\n",
    "        \"name\": \"Jack\",\n",
    "        \"gender\": \"male\"   \n",
    "    }]\n",
    "\"\"\"\n",
    "#将字符串转为json格式\n",
    "print(type(str))\n",
    "data = json.loads(str)\n",
    "print(type(data))\n",
    "print(data)"
   ]
  },
  {
   "cell_type": "code",
   "execution_count": 13,
   "id": "853a3f85",
   "metadata": {},
   "outputs": [
    {
     "name": "stdout",
     "output_type": "stream",
     "text": [
      "[\n",
      "  {\n",
      "    \"name\": \"Tom\",\n",
      "    \"gender\": \"male\"\n",
      "  },\n",
      "  {\n",
      "    \"name\": \"Jack\",\n",
      "    \"gender\": \"male\"\n",
      "  }\n",
      "]\n",
      "<class 'str'>\n"
     ]
    }
   ],
   "source": [
    "str_ = json.dumps(data, indent=2) #indent=2按照缩进格式\n",
    "print(str_)\n",
    "print(type(str_))"
   ]
  },
  {
   "cell_type": "markdown",
   "id": "5746e5ce",
   "metadata": {},
   "source": [
    "### 4. 其他常见的操作"
   ]
  },
  {
   "cell_type": "markdown",
   "id": "674a563b",
   "metadata": {},
   "source": [
    "https://blog.csdn.net/weixin_43158056/article/details/92798114"
   ]
  },
  {
   "cell_type": "markdown",
   "id": "0a511bfe",
   "metadata": {},
   "source": [
    "#### upper"
   ]
  },
  {
   "cell_type": "code",
   "execution_count": 14,
   "id": "ec4ea9bc",
   "metadata": {},
   "outputs": [
    {
     "data": {
      "text/plain": [
       "'sharpe'"
      ]
     },
     "execution_count": 14,
     "metadata": {},
     "output_type": "execute_result"
    }
   ],
   "source": [
    "'Sharpe'.lower()"
   ]
  },
  {
   "cell_type": "markdown",
   "id": "92cb3f0e",
   "metadata": {},
   "source": [
    "#### split"
   ]
  },
  {
   "cell_type": "code",
   "execution_count": 15,
   "id": "5b3404a5",
   "metadata": {},
   "outputs": [
    {
     "data": {
      "text/plain": [
       "['2021', '11', '10']"
      ]
     },
     "execution_count": 15,
     "metadata": {},
     "output_type": "execute_result"
    }
   ],
   "source": [
    "date = '2021-11-10'\n",
    "date.split('-')"
   ]
  },
  {
   "cell_type": "code",
   "execution_count": 16,
   "id": "fd445944",
   "metadata": {},
   "outputs": [
    {
     "data": {
      "text/plain": [
       "['2', '0', '2', '1', '-', '1', '1', '-', '1', '0']"
      ]
     },
     "execution_count": 16,
     "metadata": {},
     "output_type": "execute_result"
    }
   ],
   "source": [
    "list(date)"
   ]
  },
  {
   "cell_type": "markdown",
   "id": "fa9312ad",
   "metadata": {},
   "source": [
    "#### replace"
   ]
  },
  {
   "cell_type": "code",
   "execution_count": 17,
   "id": "2218ca3a",
   "metadata": {
    "scrolled": true
   },
   "outputs": [],
   "source": [
    "date = date.replace('-', '/')"
   ]
  },
  {
   "cell_type": "code",
   "execution_count": 18,
   "id": "d5465a19",
   "metadata": {},
   "outputs": [
    {
     "data": {
      "text/plain": [
       "'2021/11/10'"
      ]
     },
     "execution_count": 18,
     "metadata": {},
     "output_type": "execute_result"
    }
   ],
   "source": [
    "date"
   ]
  },
  {
   "cell_type": "markdown",
   "id": "f7354225",
   "metadata": {},
   "source": [
    "#### slice"
   ]
  },
  {
   "cell_type": "code",
   "execution_count": 19,
   "id": "6d8ebfc9",
   "metadata": {},
   "outputs": [
    {
     "data": {
      "text/plain": [
       "'2021/11/10'"
      ]
     },
     "execution_count": 19,
     "metadata": {},
     "output_type": "execute_result"
    }
   ],
   "source": [
    "date"
   ]
  },
  {
   "cell_type": "code",
   "execution_count": 20,
   "id": "2a7b7b77",
   "metadata": {},
   "outputs": [
    {
     "data": {
      "text/plain": [
       "10"
      ]
     },
     "execution_count": 20,
     "metadata": {},
     "output_type": "execute_result"
    }
   ],
   "source": [
    "len(date)"
   ]
  },
  {
   "cell_type": "code",
   "execution_count": 21,
   "id": "618a0098",
   "metadata": {},
   "outputs": [
    {
     "name": "stdout",
     "output_type": "stream",
     "text": [
      "2 0 10\n"
     ]
    }
   ],
   "source": [
    "print(date[0], date[-1], len(date))"
   ]
  },
  {
   "cell_type": "markdown",
   "id": "da8d0be7",
   "metadata": {},
   "source": [
    "#### find"
   ]
  },
  {
   "cell_type": "code",
   "execution_count": 22,
   "id": "4bb5f815",
   "metadata": {},
   "outputs": [],
   "source": [
    "num = '2022'"
   ]
  },
  {
   "cell_type": "code",
   "execution_count": 23,
   "id": "69deeb6b",
   "metadata": {},
   "outputs": [
    {
     "name": "stdout",
     "output_type": "stream",
     "text": [
      "yes\n"
     ]
    }
   ],
   "source": [
    "if num.isalnum():\n",
    "    print('yes')"
   ]
  },
  {
   "cell_type": "code",
   "execution_count": 24,
   "id": "4c6188cc",
   "metadata": {},
   "outputs": [
    {
     "name": "stdout",
     "output_type": "stream",
     "text": [
      "0\n"
     ]
    }
   ],
   "source": [
    "print(date.find('2'))"
   ]
  },
  {
   "cell_type": "markdown",
   "id": "1d5014ad",
   "metadata": {},
   "source": [
    "#### str2time"
   ]
  },
  {
   "cell_type": "code",
   "execution_count": 25,
   "id": "255aace7",
   "metadata": {},
   "outputs": [
    {
     "name": "stdout",
     "output_type": "stream",
     "text": [
      "2021-11-11 08:45:00\n"
     ]
    },
    {
     "data": {
      "text/plain": [
       "datetime.datetime"
      ]
     },
     "execution_count": 25,
     "metadata": {},
     "output_type": "execute_result"
    }
   ],
   "source": [
    "import datetime as dt\n",
    "s = '2021/11/11 8:45'\n",
    "a = dt.datetime.strptime(s, '%Y/%m/%d %H:%M')\n",
    "print(a)\n",
    "type(a)"
   ]
  },
  {
   "cell_type": "markdown",
   "id": "8e669b95",
   "metadata": {},
   "source": [
    "#### 复制"
   ]
  },
  {
   "cell_type": "code",
   "execution_count": 26,
   "id": "38cefa52",
   "metadata": {},
   "outputs": [
    {
     "name": "stdout",
     "output_type": "stream",
     "text": [
      "------------------------------\n",
      " i love u  \n",
      " i love u  \n",
      " i love u  \n",
      ...
      " i love u  \n",
      " \n",
      "------------------------------#"
     ]
    }
   ],
   "source": [
    "str_copy = 'i love u  \\n '*3000\n",
    "print('-'*30 + '\\n ' + str_copy + '\\n' + '-'*30, end='#')"
   ]
  },
  {
   "cell_type": "markdown",
   "id": "53e4f350",
   "metadata": {},
   "source": [
    "#### 打印"
   ]
  },
  {
   "cell_type": "code",
   "execution_count": 27,
   "id": "01aa5c1a",
   "metadata": {},
   "outputs": [
    {
     "name": "stdout",
     "output_type": "stream",
     "text": [
      "input(\"i love u!\")\n"
     ]
    }
   ],
   "source": [
    "print('input(\"i love u!\")')"
   ]
  },
  {
   "cell_type": "code",
   "execution_count": 28,
   "id": "7b77b80d",
   "metadata": {},
   "outputs": [
    {
     "name": "stdout",
     "output_type": "stream",
     "text": [
      "input\"i love u!\"\n"
     ]
    }
   ],
   "source": [
    "print('input\"i love u!\"')"
   ]
  },
  {
   "cell_type": "markdown",
   "id": "f9f07d8c",
   "metadata": {},
   "source": [
    "#### input 输入的是str"
   ]
  },
  {
   "cell_type": "code",
   "execution_count": 29,
   "id": "ee914402",
   "metadata": {
    "scrolled": true
   },
   "outputs": [
    {
     "name": "stdout",
     "output_type": "stream",
     "text": [
      "What do u do?students\n"
     ]
    },
    {
     "data": {
      "text/plain": [
       "'students'"
      ]
     },
     "execution_count": 29,
     "metadata": {},
     "output_type": "execute_result"
    }
   ],
   "source": [
    "input(\"What do u do?\")"
   ]
  },
  {
   "cell_type": "code",
   "execution_count": 30,
   "id": "00282bb0",
   "metadata": {
    "scrolled": true
   },
   "outputs": [
    {
     "name": "stdout",
     "output_type": "stream",
     "text": [
      "20222\n"
     ]
    },
    {
     "data": {
      "text/plain": [
       "<map at 0x7f663465e0d0>"
      ]
     },
     "execution_count": 30,
     "metadata": {},
     "output_type": "execute_result"
    }
   ],
   "source": [
    "map(int, input(num))"
   ]
  },
  {
   "cell_type": "markdown",
   "id": "04750aa4",
   "metadata": {},
   "source": [
    "#### 字符串的引号\n",
    "\n",
    "[Python中单引号，双引号和三引号](https://blog.csdn.net/weixin_44553473/article/details/105683532)"
   ]
  },
  {
   "cell_type": "markdown",
   "id": "8796069b",
   "metadata": {},
   "source": [
    "## REF"
   ]
  },
  {
   "cell_type": "markdown",
   "id": "9434bbe7",
   "metadata": {},
   "source": [
    "- [Python3 如何优雅地使用正则表达式](https://fishc.com.cn/forum.php?mod=collection&action=view&ctid=423)\n",
    "- [python 时间 日度 月度 季度](https://www.cnblogs.com/RankFan/p/15733112.html)\n",
    "- [爬虫](https://www.cnblogs.com/RankFan/p/15254432.html)"
   ]
  }
 ],
 "metadata": {
  "kernelspec": {
   "display_name": "Python 3",
   "language": "python",
   "name": "python3"
  },
  "language_info": {
   "codemirror_mode": {
    "name": "ipython",
    "version": 3
   },
   "file_extension": ".py",
   "mimetype": "text/x-python",
   "name": "python",
   "nbconvert_exporter": "python",
   "pygments_lexer": "ipython3",
   "version": "3.8.5"
  }
 },
 "nbformat": 4,
 "nbformat_minor": 5
}
