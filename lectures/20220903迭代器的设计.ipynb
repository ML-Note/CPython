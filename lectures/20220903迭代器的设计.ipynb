{
 "cells": [
  {
   "cell_type": "markdown",
   "id": "0f9c35fc",
   "metadata": {},
   "source": [
    "## 1.可迭代对象"
   ]
  },
  {
   "cell_type": "markdown",
   "id": "b7379f88",
   "metadata": {},
   "source": [
    "在Python里面，只要类型对象实现了_iter_方法（该方法能够返回一个迭代对象），那么它的实例对象就被称为可迭代对象(Iterable)，比如字符串、元组、列表、字典、集合等等。而整数、浮点数，由于其类型对象没有实现_iter_，所以它们不是可迭代对象。"
   ]
  },
  {
   "cell_type": "markdown",
   "id": "931117fe",
   "metadata": {},
   "source": [
    "可迭代对象的一大特点就是它可以使用for循环进行遍历\n",
    "\n",
    "在python中可以调用isinstance进行判断：isinstance() 函数来判断一个对象是否是一个已知的类型"
   ]
  },
  {
   "cell_type": "code",
   "execution_count": 3,
   "id": "356435d8",
   "metadata": {},
   "outputs": [
    {
     "name": "stdout",
     "output_type": "stream",
     "text": [
      "True True True True True\n",
      "False False\n"
     ]
    }
   ],
   "source": [
    "from typing import Iterable\n",
    "\n",
    "print(\n",
    "    isinstance(\"\", Iterable),\n",
    "    isinstance((), Iterable),\n",
    "    isinstance([], Iterable),\n",
    "    isinstance({}, Iterable),\n",
    "    isinstance(set(), Iterable),\n",
    ")  \n",
    "print(\n",
    "    isinstance(0, Iterable),\n",
    "    isinstance(0.0, Iterable),\n",
    ")  "
   ]
  },
  {
   "cell_type": "markdown",
   "id": "c5698cb9",
   "metadata": {},
   "source": [
    "## 2.迭代器"
   ]
  },
  {
   "cell_type": "markdown",
   "id": "6c056d9f",
   "metadata": {},
   "source": [
    "调用可迭代对象的_iter_方法，得到的就是迭代器。"
   ]
  },
  {
   "cell_type": "code",
   "execution_count": 3,
   "id": "40ec0756",
   "metadata": {},
   "outputs": [
    {
     "name": "stdout",
     "output_type": "stream",
     "text": [
      "<list_iterator object at 0x00000265D24833D0>\n"
     ]
    }
   ],
   "source": [
    "#不同类型的对象，都有自己的迭代器，举个栗子\n",
    "lst = [1, 2, 3]\n",
    "#底层调用的其实是list.__iter__(lst)\n",
    "it = lst.__iter__()\n",
    "print(it) "
   ]
  },
  {
   "cell_type": "code",
   "execution_count": 4,
   "id": "c5f7fff0",
   "metadata": {},
   "outputs": [
    {
     "data": {
      "text/plain": [
       "1"
      ]
     },
     "execution_count": 4,
     "metadata": {},
     "output_type": "execute_result"
    }
   ],
   "source": [
    "next(it)"
   ]
  },
  {
   "cell_type": "code",
   "execution_count": 5,
   "id": "c398051d",
   "metadata": {},
   "outputs": [
    {
     "data": {
      "text/plain": [
       "2"
      ]
     },
     "execution_count": 5,
     "metadata": {},
     "output_type": "execute_result"
    }
   ],
   "source": [
    "next(it)"
   ]
  },
  {
   "cell_type": "markdown",
   "id": "25acb3d8",
   "metadata": {},
   "source": [
    "把一个类作为一个迭代器使用需要在类中实现两个方法 \\__iter__() 与 \\__next__() 。\n",
    "\n",
    "如果你已经了解的面向对象编程，就知道类都有一个构造函数，Python 的构造函数为 \\__init__(), 它会在对象初始化的时候执行。\n",
    "\n",
    "\\__iter__() 方法返回一个特殊的迭代器对象， 这个迭代器对象实现了\\__next__() 方法并通过 StopIteration 异常标识迭代的完成。\n",
    "\n",
    "\\__next__() 方法（Python 2 里是 next()）会返回下一个迭代器对象。\n",
    "\n",
    "迭代器也是可迭代对象，只不过迭代器内部的\\__iter__返回的还是它本身。\n",
    "\n",
    "在创建迭代器的时候，我们更常用内置函数 __iter()__ 函数用来生成迭代器"
   ]
  },
  {
   "cell_type": "code",
   "execution_count": 17,
   "id": "95a48f53",
   "metadata": {},
   "outputs": [
    {
     "name": "stdout",
     "output_type": "stream",
     "text": [
      "1\n",
      "2\n"
     ]
    }
   ],
   "source": [
    "# 创建迭代器对象\n",
    "list=[1,2,3,4]\n",
    "it = iter(list)    \n",
    "print(next(it))   # 输出迭代器的下一个元素\n",
    "print (next(it))"
   ]
  },
  {
   "cell_type": "markdown",
   "id": "93d2c285",
   "metadata": {},
   "source": [
    "## 生成器"
   ]
  },
  {
   "cell_type": "markdown",
   "id": "cc014313",
   "metadata": {},
   "source": [
    "在 Python 中，**使用了 yield 的函数被称为生成器（generator）**。\n",
    "\n",
    "跟普通函数不同的是，**生成器是一个返回迭代器的函数，只能用于迭代操作，更简单点理解生成器就是一个迭代器**。\n",
    "\n",
    "在调用生成器运行的过程中，每次遇到 yield 时函数会暂停并保存当前所有的运行信息，返回 yield 的值, 并在下一次执行 next() 方法时从当前位置继续运行。\n",
    "\n",
    "调用一个生成器函数，返回的是一个迭代器对象。"
   ]
  },
  {
   "cell_type": "markdown",
   "id": "a009deef",
   "metadata": {},
   "source": [
    "### xrange()"
   ]
  },
  {
   "cell_type": "code",
   "execution_count": 37,
   "id": "3861e57a",
   "metadata": {},
   "outputs": [
    {
     "data": {
      "text/plain": [
       "<generator object xrange at 0x000002C5CA7FDE40>"
      ]
     },
     "execution_count": 37,
     "metadata": {},
     "output_type": "execute_result"
    }
   ],
   "source": [
    "#xrange() 函数用法与 range 完全相同，所不同的是生成的不是一个数组，而是一个生成器。\n",
    "xrange(0,8)"
   ]
  },
  {
   "cell_type": "code",
   "execution_count": 36,
   "id": "75de6dc7",
   "metadata": {},
   "outputs": [],
   "source": [
    "#实现xrange函数\n",
    "def xrange(start, stop, step=1): \n",
    "    while start < stop: \n",
    "        yield start \n",
    "        start += step"
   ]
  },
  {
   "cell_type": "markdown",
   "id": "e7e632ea",
   "metadata": {},
   "source": [
    "**每次代码运行到 yield，该函数都会发射出一个值**，然\n",
    "后当外部代码需求另一个值时，该函数才会继续运行（之前的状态保持不变）并发\n",
    "射新的值。当该函数运行结束时，一个 StopIteration 异常会被抛出表明该生\n",
    "成器已经没有更多的值了。"
   ]
  },
  {
   "cell_type": "code",
   "execution_count": 38,
   "id": "c88b89e7",
   "metadata": {},
   "outputs": [
    {
     "data": {
      "text/plain": [
       "0"
      ]
     },
     "execution_count": 38,
     "metadata": {},
     "output_type": "execute_result"
    }
   ],
   "source": [
    "xx=xrange(0,8)\n",
    "next(xx)"
   ]
  },
  {
   "cell_type": "code",
   "execution_count": 39,
   "id": "050e4122",
   "metadata": {},
   "outputs": [
    {
     "data": {
      "text/plain": [
       "1"
      ]
     },
     "execution_count": 39,
     "metadata": {},
     "output_type": "execute_result"
    }
   ],
   "source": [
    "next(xx)"
   ]
  },
  {
   "cell_type": "markdown",
   "id": "42ce1fe0",
   "metadata": {},
   "source": [
    "例子：生成斐波那契数列"
   ]
  },
  {
   "cell_type": "code",
   "execution_count": 44,
   "id": "3116fe14",
   "metadata": {},
   "outputs": [
    {
     "name": "stdout",
     "output_type": "stream",
     "text": [
      "1\n",
      "1\n",
      "2\n",
      "3\n",
      "5\n"
     ]
    }
   ],
   "source": [
    "#基础版本\n",
    "def fab(max): \n",
    "    n, a, b = 0, 0, 1 \n",
    "    while n < max: \n",
    "        print(b) \n",
    "        a, b = b, a + b \n",
    "        n = n + 1\n",
    "fab(5)"
   ]
  },
  {
   "cell_type": "code",
   "execution_count": 54,
   "id": "1c7f3b12",
   "metadata": {},
   "outputs": [
    {
     "name": "stdout",
     "output_type": "stream",
     "text": [
      "1\n",
      "1\n",
      "2\n",
      "3\n",
      "5\n"
     ]
    }
   ],
   "source": [
    "#创建迭代器版本，将一个类作为一个迭代器使用\n",
    "class Fab(object): \n",
    "    def __init__(self, max): \n",
    "        self.max = max \n",
    "        self.n, self.a, self.b = 0, 0, 1 \n",
    " \n",
    "    def __iter__(self): \n",
    "        return self \n",
    " \n",
    "    def __next__(self): \n",
    "        if self.n < self.max: \n",
    "            r = self.b \n",
    "            self.a, self.b = self.b, self.a + self.b \n",
    "            self.n = self.n + 1 \n",
    "            return r \n",
    "        raise StopIteration()\n",
    "\n",
    "for n in Fab(5): \n",
    "    print(n)"
   ]
  },
  {
   "cell_type": "code",
   "execution_count": 56,
   "id": "4f125968",
   "metadata": {},
   "outputs": [
    {
     "name": "stdout",
     "output_type": "stream",
     "text": [
      "1\n",
      "1\n",
      "2\n",
      "3\n",
      "5\n"
     ]
    }
   ],
   "source": [
    "#利用生成器返回迭代器\n",
    "def fab(max): \n",
    "    n, a, b = 0, 0, 1 \n",
    "    while n < max: \n",
    "        yield b      # 使用 yield\n",
    "        # print b \n",
    "        a, b = b, a + b \n",
    "        n = n + 1\n",
    "\n",
    "for n in fab(5): \n",
    "    print(n)"
   ]
  },
  {
   "cell_type": "markdown",
   "id": "aa2c9ec3",
   "metadata": {},
   "source": [
    "**内存占用：生成器表达式需要的内存远小于列表表达式，原因在于它只处理当前感兴趣的值**"
   ]
  },
  {
   "cell_type": "markdown",
   "id": "4be5e18e",
   "metadata": {},
   "source": [
    "比如假设我们有一个数字的长列表，我们想要知道其中有多少个数字可以被 3 整除\n",
    "\n",
    "\n",
    "divisible_by_three = len([n for n in list_of_numbers if n % 3 == 0]) "
   ]
  },
  {
   "cell_type": "markdown",
   "id": "391e071e",
   "metadata": {},
   "source": [
    "divisible_by_three = sum((1 for n in list_of_numbers if n % 3 == 0))\n",
    "\n",
    "\n",
    "生成器在每当遇到一个能被 3 整除的数字时就会发射一个 1，而不是别的数字。对该生成器发射的所有值求和，我们就能得到跟列表表达式一样的结果。"
   ]
  },
  {
   "cell_type": "markdown",
   "id": "077bbf15",
   "metadata": {},
   "source": [
    "## 补充：生成器的延迟估值"
   ]
  },
  {
   "cell_type": "markdown",
   "id": "1747742a",
   "metadata": {},
   "source": [
    "之前提到，生成器之所以能够节约我们的内存是因为它只处理当前感兴趣的值。在\n",
    "我们计算的任意点，我们都只能访问当前的值，而无法访问数列中的其他元素（这\n",
    "种算法我们通常称为“单通”或“在线”）。有时候这会令生成器难以被使用，不过\n",
    "有很多模块和函数可以帮助解决这一问题。"
   ]
  },
  {
   "cell_type": "code",
   "execution_count": null,
   "id": "4efedc15",
   "metadata": {},
   "outputs": [],
   "source": []
  }
 ],
 "metadata": {
  "kernelspec": {
   "display_name": "Python 3 (ipykernel)",
   "language": "python",
   "name": "python3"
  },
  "language_info": {
   "codemirror_mode": {
    "name": "ipython",
    "version": 3
   },
   "file_extension": ".py",
   "mimetype": "text/x-python",
   "name": "python",
   "nbconvert_exporter": "python",
   "pygments_lexer": "ipython3",
   "version": "3.8.8"
  }
 },
 "nbformat": 4,
 "nbformat_minor": 5
}
