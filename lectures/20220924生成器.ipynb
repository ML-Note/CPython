{
 "cells": [
  {
   "cell_type": "markdown",
   "id": "6d2534bf",
   "metadata": {},
   "source": [
    "# 生成器\n",
    "\n",
    "### 生成器函数 \n",
    "\n",
    "对于<font color= red>普通函数</font>，只要调用了，那么<font color= red>不把里面的代码执行完毕誓不罢休</font>。而函数内部的 return xxx，就是调用之后的返回值。\n",
    "\n",
    "\n",
    "对于<font color= red>生成器函数</font>，调用的时候并没有动，只是返回一个生成器对象，然后需要每次调用一次 _ _ next _ _ ，才往前走一步。通过不断地驱动生成器，最终将里面的代码执行完毕，然后将设置了返回值的 StopIteration 抛出来。\n",
    "\n",
    "\n",
    "生成器函数的特点是，其内部会出现yield关键字。我们也<font color= red>可以把生成器看成是可以暂停的函数</font>，其中的 yield 就类似于 return，只不过可以有多个 yield。当执行到一个 yield 时，将值返回、同时暂停在此处。然后当调用 _ _ next _ _ 驱动时，从暂停的地方继续执行，直到找到下一个 yield。如果找不到下一个 yield，就会抛出 StopIteration 异常。\n",
    "\n",
    "\n",
    "- yield 关键字\n",
    "- _ _ next _ _ 方法 ： 驱动生成器执行\n",
    "- send 方法  ： 驱动生成器执行 + 传递一个值\n",
    "- throw 方法 ： 驱动生成器执行 + 传递一个异常\n",
    "- close 方法 ： 关闭生成器\n",
    "- StopIteration 异常、GeneratorExit 异常、RuntimeError 异常\n",
    "- yeild from 关键字 ：后面必须跟一个可迭代对象，然后每次返回可迭代对象的一个值；作为委托生成器\n",
    "- 生成器表达式\n"
   ]
  },
  {
   "cell_type": "markdown",
   "id": "95194872",
   "metadata": {},
   "source": [
    "### 生成器的作用\n",
    "生成器对象一般用于处理循环结构，应用得当的话可以<font color= red>极大优化内存使用率</font>。\n",
    "\n",
    "\n",
    "- 比如：我们读取一个大文件。使用普通函数，直接将里面的内容全部读取出来，返回了一个列表。如果文件非常大，那么内存的开销可想而知。于是我们可以通过yield关键字，将普通函数变成一个生成器函数，返回了一个生成器对象，可以使用 for 循环遍历。"
   ]
  },
  {
   "cell_type": "code",
   "execution_count": 1,
   "id": "e5260854",
   "metadata": {},
   "outputs": [
    {
     "name": "stdout",
     "output_type": "stream",
     "text": [
      "['自强！自强！学海何洋洋！谁欤操钥发其藏？\\n', '鹭江深且长，致吾知于无央。\\n', '吁嗟乎！南方之强！吁嗟乎！南方之强！\\n', '自强！自强！人生何茫茫！谁欤普渡驾慈航？\\n', '鹭江深且长，充吾爱于无疆。\\n', '吁嗟乎！南方之强！吁嗟乎！南方之强！']\n"
     ]
    }
   ],
   "source": [
    "def read_file(file):\n",
    "    return open(file, encoding=\"utf-8\").readlines()\n",
    "\n",
    "print(read_file(\"假装是大文件.txt\"))"
   ]
  },
  {
   "cell_type": "code",
   "execution_count": 3,
   "id": "d6e65b40",
   "metadata": {},
   "outputs": [
    {
     "name": "stdout",
     "output_type": "stream",
     "text": [
      "<generator object read_file at 0x000002095DA74BA0>\n",
      "------------\n",
      "自强！自强！学海何洋洋！谁欤操钥发其藏？\n",
      "鹭江深且长，致吾知于无央。\n",
      "吁嗟乎！南方之强！吁嗟乎！南方之强！\n",
      "自强！自强！人生何茫茫！谁欤普渡驾慈航？\n",
      "鹭江深且长，充吾爱于无疆。\n",
      "吁嗟乎！南方之强！吁嗟乎！南方之强！"
     ]
    }
   ],
   "source": [
    "def read_file(file):\n",
    "    with open(file, encoding=\"utf-8\") as f:\n",
    "        for line in f:\n",
    "            yield line\n",
    "\n",
    "data = read_file(\"假装是大文件.txt\")\n",
    "print(data)  # 这里返回了一个生成器对象，我们可以使用 for 循环遍历\n",
    "\n",
    "print(\"------------\")\n",
    "\n",
    "for line in data:\n",
    "    print(line, end=\"\")  # 文件每一行自带换行符, 所以这里的 print 就不用换行符了"
   ]
  },
  {
   "cell_type": "markdown",
   "id": "924f5e18",
   "metadata": {},
   "source": [
    "###  _ _ next _ _ 方法\n",
    "调用生成器函数时，会创建一个生成器，但是里面的代码并没有执行，调用 _ _ next _ _ 方法时才会执行。当遇到 yield，会将生成器暂停、并返回yield后面的值。当再调用 _ _ next _ _ 已经找不到下一个 yield 时，生成器会抛出StopIteration，并将返回值设置在里面。"
   ]
  },
  {
   "cell_type": "code",
   "execution_count": 4,
   "id": "48253977",
   "metadata": {},
   "outputs": [
    {
     "name": "stdout",
     "output_type": "stream",
     "text": [
      "123\n",
      "456\n",
      "789\n",
      "返回值：result\n"
     ]
    }
   ],
   "source": [
    "def gen():\n",
    "    yield 123\n",
    "    yield 456\n",
    "    yield 789\n",
    "    return \"result\"\n",
    "\n",
    "g = gen() # 调用生成器函数时，会创建一个生成器，但是里面的代码并没有执行\n",
    "\n",
    "print(g.__next__())  # 123 ，调用__next__方法时才会执行，当遇到 yield，会将生成器暂停、并返回yield后面的值\n",
    "\n",
    "print(g.__next__())  # 456 ，再次执行__next__，生成器恢复执行，并在下一个yield处暂停\n",
    "\n",
    "print(g.__next__())  # 789\n",
    "\n",
    "try:\n",
    "    g.__next__() # 再调用 __next__ 时，找不到下一个 yield ，生成器会抛出 StopIteration，并将返回值设置在里面\n",
    "except StopIteration as e:\n",
    "    print(f\"返回值：{e.value}\")  # result"
   ]
  },
  {
   "cell_type": "markdown",
   "id": "efad2c26",
   "metadata": {},
   "source": [
    "### send 方法\n",
    "send方法与 _ _ next _ _ 方法一样，也可以<font color= red>驱动生成器执行</font>，其不同之处在于<font color= red>send方法可以向生成器传递一个参数</font>。"
   ]
  },
  {
   "cell_type": "code",
   "execution_count": 7,
   "id": "56764a37",
   "metadata": {},
   "outputs": [
    {
     "name": "stdout",
     "output_type": "stream",
     "text": [
      "yield 1\n",
      "------------\n",
      "res = 嘿嘿\n",
      "yield 2\n",
      "------------\n",
      "res = None\n",
      "yield 3\n",
      "------------\n",
      "返回值：蛤蛤\n"
     ]
    }
   ],
   "source": [
    "def gen():\n",
    "    res1 = yield \"yield 1\"\n",
    "    print(f\"res = {res1}\") # 格式化字符串,加f后可以在字符串里面使用用花括号括起来的变量和表达式\n",
    "    res2 = yield \"yield 2\"\n",
    "    print(f\"res = {res2}\") # 格式化字符串,加f后可以在字符串里面使用用花括号括起来的变量和表达式\n",
    "    res3 = yield \"yield 3\"\n",
    "    return res3\n",
    "\n",
    "g = gen()\n",
    "\n",
    "print(g.__next__()) # 此时程序在第一个 yield 处暂停\n",
    "print(\"------------\")\n",
    "\n",
    "# 调用 g.send(val) 依旧可以驱动生成器执行\n",
    "# 同时还可以传递一个值，交给第一个 yield 左边的 res1\n",
    "# 然后在第二个 yield处暂停\n",
    "print(g.send(\"嘿嘿\")) \n",
    "print(\"------------\")\n",
    "\n",
    "print(g.__next__())  # __next__没有传递参数的功能，因此打印 res2 得到 None\n",
    "print(\"------------\")\n",
    "\n",
    "try:\n",
    "    g.send(\"蛤蛤\")  # 把“蛤蛤”传递给 res3\n",
    "except StopIteration as e:  #  没有下一个yield，生成器抛出StopIteration，并把return返回值设置在里面\n",
    "    print(f\"返回值：{e.value}\")  # 这里输出的 e 的值就是赋值后的 res3 的值“蛤蛤” "
   ]
  },
  {
   "cell_type": "markdown",
   "id": "623c147c",
   "metadata": {},
   "source": [
    "刚创建生成器的时候，里面的代码还没有执行。第一次驱动生成器的执行，叫做<font color= red>生成器的预激</font>。<font color= red>在生成器还没有被预激时，我们调用 send，里面只能传递一个 None</font>，也就是 g.send(None),或者调用 g._ _ next _ _()，否则报错。\n",
    "\n",
    "传值是为了赋给 yield 左边的变量，这就意味着生成器必须至少被驱动一次、在某个 yield 处停下来才可以。而未被预激的生成器，它里面的代码未被执行，所以第一次驱动的时候只能传递一个 None 进去。"
   ]
  },
  {
   "cell_type": "code",
   "execution_count": 11,
   "id": "d071109b",
   "metadata": {},
   "outputs": [
    {
     "ename": "TypeError",
     "evalue": "can't send non-None value to a just-started generator",
     "output_type": "error",
     "traceback": [
      "\u001b[1;31m---------------------------------------------------------------------------\u001b[0m",
      "\u001b[1;31mTypeError\u001b[0m                                 Traceback (most recent call last)",
      "\u001b[1;32m~\\AppData\\Local\\Temp/ipykernel_13988/766383513.py\u001b[0m in \u001b[0;36m<module>\u001b[1;34m\u001b[0m\n\u001b[0;32m      5\u001b[0m \u001b[1;33m\u001b[0m\u001b[0m\n\u001b[0;32m      6\u001b[0m \u001b[0mg\u001b[0m \u001b[1;33m=\u001b[0m \u001b[0mgen\u001b[0m\u001b[1;33m(\u001b[0m\u001b[1;33m)\u001b[0m\u001b[1;33m\u001b[0m\u001b[1;33m\u001b[0m\u001b[0m\n\u001b[1;32m----> 7\u001b[1;33m \u001b[0mg\u001b[0m\u001b[1;33m.\u001b[0m\u001b[0msend\u001b[0m\u001b[1;33m(\u001b[0m\u001b[1;33m[\u001b[0m\u001b[1;33m]\u001b[0m\u001b[1;33m)\u001b[0m\u001b[1;33m\u001b[0m\u001b[1;33m\u001b[0m\u001b[0m\n\u001b[0m\u001b[0;32m      8\u001b[0m \u001b[1;33m\u001b[0m\u001b[0m\n\u001b[0;32m      9\u001b[0m \u001b[1;33m\u001b[0m\u001b[0m\n",
      "\u001b[1;31mTypeError\u001b[0m: can't send non-None value to a just-started generator"
     ]
    }
   ],
   "source": [
    "def gen():\n",
    "    res1 = yield 123\n",
    "    res2 = yield 456\n",
    "    return \"result\"\n",
    "\n",
    "g = gen()\n",
    "g.send([])"
   ]
  },
  {
   "cell_type": "code",
   "execution_count": 12,
   "id": "2aa0083c",
   "metadata": {},
   "outputs": [
    {
     "name": "stdout",
     "output_type": "stream",
     "text": [
      "can't send non-None value to a just-started generator\n"
     ]
    }
   ],
   "source": [
    "try:\n",
    "    g.send([])\n",
    "except TypeError as e:\n",
    "    print(e)"
   ]
  },
  {
   "cell_type": "markdown",
   "id": "a6c3de2a",
   "metadata": {},
   "source": [
    "### throw方法\n",
    "throw 方法的作用和前两者类似，也是<font color= red>驱动生成器执行，并在下一个 yield 处暂停</font>。但它在调用的时候，可以<font color= red>传递一个异常进去</font>。"
   ]
  },
  {
   "cell_type": "code",
   "execution_count": 21,
   "id": "f4f0854d",
   "metadata": {},
   "outputs": [
    {
     "name": "stdout",
     "output_type": "stream",
     "text": [
      "123\n",
      "------------\n",
      "抛出异常\n",
      "456\n",
      "------------\n",
      "返回值：result\n"
     ]
    }
   ],
   "source": [
    "def gen():\n",
    "    try:\n",
    "        yield 123\n",
    "    except ValueError as e:\n",
    "        print(e)\n",
    "    yield 456\n",
    "    return \"result\"\n",
    "\n",
    "g = gen()\n",
    "print(g.__next__())\n",
    "print(\"------------\")\n",
    "\n",
    "# 向生成器传递一个异常\n",
    "# 如果当前生成器的暂停位置处无法捕获传递的异常，那么会将异常抛出来\n",
    "# 如果能够捕获，那么会驱动生成器执行，并在下一个 yield 处暂停\n",
    "# 然后返回 yield 后面的值\n",
    "# 当前生成器在 yield 123 处暂停，而它所在位置能够捕获异常\n",
    "# 所以不会报错，结果就是 456 会赋值给 val\n",
    "print(g.throw(ValueError(\"抛出异常\")))\n",
    "print(\"------------\")\n",
    "\n",
    "try:\n",
    "    g.__next__()\n",
    "except StopIteration as e:\n",
    "    print(f\"返回值：{e.value}\")"
   ]
  },
  {
   "cell_type": "markdown",
   "id": "4a4230d3",
   "metadata": {},
   "source": [
    "### close方法\n",
    "<font color= red>关闭</font>生成器"
   ]
  },
  {
   "cell_type": "code",
   "execution_count": 1,
   "id": "4c1e9864",
   "metadata": {},
   "outputs": [
    {
     "name": "stdout",
     "output_type": "stream",
     "text": [
      "123\n",
      "None\n"
     ]
    }
   ],
   "source": [
    "def gen():\n",
    "    yield 123\n",
    "    yield 456\n",
    "    return \"result\"\n",
    "\n",
    "g = gen()\n",
    "print(g.__next__())\n",
    "g.close()\n",
    "try:\n",
    "    g.__next__() # 再次调用 __next__，会抛出 StopIteration\n",
    "except StopIteration as e:\n",
    "    print(e.value)  # None"
   ]
  },
  {
   "cell_type": "markdown",
   "id": "e67bdc22",
   "metadata": {},
   "source": [
    "### GeneratorExit 异常\n",
    "如果我们<font color= red>删除或关闭</font>一个生成器，那么会往里面扔一个 GeneratorExit 进去。\n",
    "\n",
    "还有一个需要注意的点，就是在捕获 GeneratorExit 之后，不可以再执行 yield，否则会抛出 RuntimeError（但不会终止程序）。"
   ]
  },
  {
   "cell_type": "code",
   "execution_count": 2,
   "id": "6df7e969",
   "metadata": {},
   "outputs": [
    {
     "name": "stdout",
     "output_type": "stream",
     "text": [
      "生成器被删除了\n",
      "------------\n"
     ]
    }
   ],
   "source": [
    "def gen():\n",
    "    try:\n",
    "        yield 123\n",
    "    except GeneratorExit as e:\n",
    "        print(\"生成器被删除了\")\n",
    "        #yield 456\n",
    "\n",
    "g = gen()\n",
    "g.__next__()\n",
    "\n",
    "g.close()\n",
    "print(\"------------\")\n",
    "#del g"
   ]
  },
  {
   "cell_type": "code",
   "execution_count": 46,
   "id": "27aef618",
   "metadata": {},
   "outputs": [
    {
     "name": "stderr",
     "output_type": "stream",
     "text": [
      "Exception ignored in: <generator object gen at 0x000002095DBBA0B0>\n",
      "Traceback (most recent call last):\n",
      "  File \"C:\\Users\\lenovo\\AppData\\Local\\Temp/ipykernel_13988/1569352348.py\", line 10, in <module>\n",
      "RuntimeError: generator ignored GeneratorExit\n"
     ]
    },
    {
     "name": "stdout",
     "output_type": "stream",
     "text": [
      "生成器被删除\n",
      "抛出 RuntimeError，但不影响程序执行\n"
     ]
    }
   ],
   "source": [
    "def gen():\n",
    "    try:\n",
    "        yield 123\n",
    "    except GeneratorExit:\n",
    "        print(\"生成器被删除\")\n",
    "        yield 456\n",
    "\n",
    "g = gen()\n",
    "g.__next__()\n",
    "del g\n",
    "print(\"抛出 RuntimeError，但不影响程序执行\")"
   ]
  },
  {
   "cell_type": "code",
   "execution_count": 7,
   "id": "f5d5e758",
   "metadata": {},
   "outputs": [],
   "source": [
    "# 使用 del 删除生成器，不捕获异常的话，不会出现报错\n",
    "def gen():\n",
    "    yield 123\n",
    "\n",
    "g = gen()\n",
    "g.__next__()\n",
    "del g"
   ]
  },
  {
   "cell_type": "code",
   "execution_count": 41,
   "id": "69ba15d8",
   "metadata": {},
   "outputs": [
    {
     "name": "stdout",
     "output_type": "stream",
     "text": [
      "生成器被删除了\n"
     ]
    },
    {
     "data": {
      "text/plain": [
       "456"
      ]
     },
     "execution_count": 41,
     "metadata": {},
     "output_type": "execute_result"
    }
   ],
   "source": [
    "# 关闭或删除生成器时向生成器扔一个 GeneratorExit进去，使用throw方法能达到类似的效果\n",
    "def gen():\n",
    "    try:\n",
    "        yield 123\n",
    "    except GeneratorExit as e:\n",
    "        print(\"生成器被删除了\")    \n",
    "        yield 456\n",
    "\n",
    "g = gen()\n",
    "g.__next__()\n",
    "g.throw(GeneratorExit)"
   ]
  },
  {
   "cell_type": "code",
   "execution_count": 44,
   "id": "c18eb39f",
   "metadata": {},
   "outputs": [
    {
     "ename": "GeneratorExit",
     "evalue": "",
     "output_type": "error",
     "traceback": [
      "\u001b[1;31m---------------------------------------------------------------------------\u001b[0m",
      "\u001b[1;31mGeneratorExit\u001b[0m                             Traceback (most recent call last)",
      "\u001b[1;32m~\\AppData\\Local\\Temp/ipykernel_13988/2478213969.py\u001b[0m in \u001b[0;36m<module>\u001b[1;34m\u001b[0m\n\u001b[0;32m      4\u001b[0m \u001b[0mg\u001b[0m \u001b[1;33m=\u001b[0m \u001b[0mgen\u001b[0m\u001b[1;33m(\u001b[0m\u001b[1;33m)\u001b[0m\u001b[1;33m\u001b[0m\u001b[1;33m\u001b[0m\u001b[0m\n\u001b[0;32m      5\u001b[0m \u001b[0mg\u001b[0m\u001b[1;33m.\u001b[0m\u001b[0m__next__\u001b[0m\u001b[1;33m(\u001b[0m\u001b[1;33m)\u001b[0m\u001b[1;33m\u001b[0m\u001b[1;33m\u001b[0m\u001b[0m\n\u001b[1;32m----> 6\u001b[1;33m \u001b[0mg\u001b[0m\u001b[1;33m.\u001b[0m\u001b[0mthrow\u001b[0m\u001b[1;33m(\u001b[0m\u001b[0mGeneratorExit\u001b[0m\u001b[1;33m)\u001b[0m\u001b[1;33m\u001b[0m\u001b[1;33m\u001b[0m\u001b[0m\n\u001b[0m",
      "\u001b[1;32m~\\AppData\\Local\\Temp/ipykernel_13988/2478213969.py\u001b[0m in \u001b[0;36mgen\u001b[1;34m()\u001b[0m\n\u001b[0;32m      1\u001b[0m \u001b[1;32mdef\u001b[0m \u001b[0mgen\u001b[0m\u001b[1;33m(\u001b[0m\u001b[1;33m)\u001b[0m\u001b[1;33m:\u001b[0m\u001b[1;33m\u001b[0m\u001b[1;33m\u001b[0m\u001b[0m\n\u001b[1;32m----> 2\u001b[1;33m     \u001b[1;32myield\u001b[0m \u001b[1;36m123\u001b[0m\u001b[1;33m\u001b[0m\u001b[1;33m\u001b[0m\u001b[0m\n\u001b[0m\u001b[0;32m      3\u001b[0m \u001b[1;33m\u001b[0m\u001b[0m\n\u001b[0;32m      4\u001b[0m \u001b[0mg\u001b[0m \u001b[1;33m=\u001b[0m \u001b[0mgen\u001b[0m\u001b[1;33m(\u001b[0m\u001b[1;33m)\u001b[0m\u001b[1;33m\u001b[0m\u001b[1;33m\u001b[0m\u001b[0m\n\u001b[0;32m      5\u001b[0m \u001b[0mg\u001b[0m\u001b[1;33m.\u001b[0m\u001b[0m__next__\u001b[0m\u001b[1;33m(\u001b[0m\u001b[1;33m)\u001b[0m\u001b[1;33m\u001b[0m\u001b[1;33m\u001b[0m\u001b[0m\n",
      "\u001b[1;31mGeneratorExit\u001b[0m: "
     ]
    }
   ],
   "source": [
    "# 但是使用throw如果不对异常进行捕获的话，异常会被抛出\n",
    "def gen():\n",
    "    yield 123\n",
    "\n",
    "g = gen()\n",
    "g.__next__()\n",
    "g.throw(GeneratorExit)"
   ]
  },
  {
   "cell_type": "markdown",
   "id": "8d932876",
   "metadata": {},
   "source": [
    "<font color= red>生成器为什么要提供这一个机制呢？</font>直接删就完了，干嘛还要往生成器内部丢一个异常呢？答案是为了<font color= red>资源的清理和释放</font>。\n",
    "\n",
    "\n",
    "\n",
    "在Python还未提供原生协程、或者 asyncio 还尚未流行起来的时候，很多开源的协程框架都是基于生成器实现的协程。而创建连接的逻辑，一般都会写在 yield 后面。但是<font color= red>这些连接在不用的时候，要不要进行释放呢？答案是肯定的。当我们将生成器删除的时候，就能够自动对连接进行释放了</font>。\n",
    "\n",
    "还有一个需要注意的点，就是在捕获 GeneratorExit 之后，不可以再执行 yield，否则会抛出 RuntimeError（但不会终止程序）。"
   ]
  },
  {
   "cell_type": "code",
   "execution_count": 1,
   "id": "ac8ab272",
   "metadata": {},
   "outputs": [],
   "source": [
    "def _create_connection():\n",
    "    # 一些逻辑\n",
    "    try: \n",
    "        yield conn\n",
    "    except GeneratorExit:\n",
    "        conn.close()\n",
    "    # 一些逻辑"
   ]
  },
  {
   "cell_type": "markdown",
   "id": "f98b3c55",
   "metadata": {},
   "source": [
    "### yield from\n",
    "yield from 后面必须跟一个<font color= red>可迭代对象</font>(否则报错)，然后每次返回可迭代对象的一个值，其它表现和 yield 类似。\n",
    "\n",
    "yield 对后面的值没有要求，直接将其返回。"
   ]
  },
  {
   "cell_type": "code",
   "execution_count": 1,
   "id": "37878733",
   "metadata": {},
   "outputs": [
    {
     "name": "stdout",
     "output_type": "stream",
     "text": [
      "1\n",
      "2\n",
      "3\n",
      "result\n"
     ]
    }
   ],
   "source": [
    "def gen():\n",
    "    yield from [1, 2, 3]\n",
    "    return \"result\"\n",
    "\n",
    "g = gen()\n",
    "print(g.__next__())  # 1\n",
    "print(g.__next__())  # 2\n",
    "print(g.__next__())  # 3\n",
    "try:\n",
    "    g.__next__()\n",
    "except StopIteration as e:\n",
    "    print(e.value)  # result"
   ]
  },
  {
   "cell_type": "code",
   "execution_count": 11,
   "id": "ca515ad4",
   "metadata": {},
   "outputs": [
    {
     "name": "stdout",
     "output_type": "stream",
     "text": [
      "[1, 3, 3, 5, 6, 8, 'aaa', 250]\n"
     ]
    }
   ],
   "source": [
    "# 编写一个函数，将列表扁平化\n",
    "def flatten(lst):\n",
    "    for item in lst:\n",
    "        (yield from flatten(item)) \\\n",
    "            if isinstance(item, list) else (yield item)\n",
    "\n",
    "lst = [1, [[[[3, 3], 5]]], [[[[[[[[[[[[[6]]]]], 8]]], \"aaa\"]]]], 250]]\n",
    "print(list(flatten(lst)))  # [1, 3, 3, 5, 6, 8, 'aaa', 250]"
   ]
  },
  {
   "cell_type": "markdown",
   "id": "440412e4",
   "metadata": {},
   "source": [
    "### yield from 作为委托生成器\n",
    "委托生成器会在委托生成器<font color= red>调用方</font>和<font color= red>子生成器</font>之间建立一个双向通道。\n",
    "\n",
    "当需求比较复杂时，将生成器内部的部分操作委托给另一个生成器是有必要的。"
   ]
  },
  {
   "cell_type": "code",
   "execution_count": 4,
   "id": "39e61bc5",
   "metadata": {},
   "outputs": [
    {
     "name": "stdout",
     "output_type": "stream",
     "text": [
      "123\n",
      "456\n",
      "------------\n",
      "接收到子生成器的返回值: result\n",
      "789\n"
     ]
    }
   ],
   "source": [
    "def gen():  # gen() 子生成器 \n",
    "    yield 123\n",
    "    yield 456\n",
    "    return \"result\"\n",
    "\n",
    "def middle():  # middle() 是委托生成器\n",
    "    res = yield from gen()\n",
    "    print(f\"接收到子生成器的返回值: {res}\")\n",
    "    #return \"委托生成器\"\n",
    "    yield 789\n",
    "\n",
    "g = middle()  # g 是调用方\n",
    "\n",
    "# 而 yield from 会在调用方和子生成器之间建立一个双向通道，两者是可以互通的\n",
    "# g.send、g.throw 都会直接传递给子生成器\n",
    "print(g.__next__())  # 123\n",
    "print(g.__next__())  # 456\n",
    "print(\"------------\")\n",
    "\n",
    "# 如果再调用一次 __next__ 会有什么后果呢？按照之前的理解，应该会抛出 StopIteration\n",
    "try:\n",
    "    print(g.__next__())\n",
    "except StopIteration as e:\n",
    "    print(e.value)  # 委托生成器"
   ]
  },
  {
   "cell_type": "markdown",
   "id": "1215827b",
   "metadata": {},
   "source": [
    "在<font color= red>第三次调用 _ _ next _ _ 的时候，确实抛了异常，但是委托生成器收到了子生成器的返回值</font>。也就是说，委托生成器在调用方和子生成器之间建立了双向通道，两者是直接通信的，但是当子生成器出现 StopIteration 时，委托生成器还要负责兜底。<font color= red>委托生成器会将子生成器抛出的 StopIteration 里面的 value 取出来，然后赋值给左侧的变量 res，并在自己内部继续寻找 yield</font>。\n",
    "\n",
    "\n",
    "换句话说，当子生成器 return 之后，委托生成器会拿到返回值，并将子生成器抛出的异常给捕获掉。但是还没完，因为还要找到下一个 yield，那么从哪里找呢？显然是委托生成器的内部寻找，于是接下来就变成了调用方和委托生成器之间的通信。<font color= red>如果在委托生成器内部能找到下一个 yield，那么会将值返回给调用方。如果找不到，那么就重新构造一个 StopIteration，将异常抛出去</font>。此时异常的 value 属性，就是委托生成器的返回值。"
   ]
  },
  {
   "cell_type": "code",
   "execution_count": 12,
   "id": "975ea469",
   "metadata": {},
   "outputs": [
    {
     "name": "stdout",
     "output_type": "stream",
     "text": [
      "123\n",
      "result\n"
     ]
    }
   ],
   "source": [
    "# 大部分情况下，我们并不关注委托生成器的返回值，我们更关注的是子生成器。于是可以换种写法：\n",
    "#  只输出子生成器的返回值\n",
    "def gen():\n",
    "    yield 123\n",
    "    return \"result\"\n",
    "\n",
    "def middle():\n",
    "    yield (yield from gen())\n",
    "\n",
    "g = middle()\n",
    "print(g.__next__())  # 123\n",
    "print(g.__next__())  # result"
   ]
  },
  {
   "cell_type": "markdown",
   "id": "f07c796b",
   "metadata": {},
   "source": [
    "### 生成器表达式"
   ]
  },
  {
   "cell_type": "code",
   "execution_count": null,
   "id": "637e9147",
   "metadata": {},
   "outputs": [],
   "source": [
    "from typing import Generator\n",
    "\n",
    "g = (x for x in range(10))\n",
    "print(isinstance(g, Generator))  # True\n",
    "print(g)  # <generator object <genexpr> at 0x...>\n",
    "\n",
    "print(g.__next__())  # 0\n",
    "print(g.__next__())  # 1"
   ]
  },
  {
   "cell_type": "code",
   "execution_count": 16,
   "id": "9b2a4577",
   "metadata": {},
   "outputs": [
    {
     "name": "stdout",
     "output_type": "stream",
     "text": [
      "388 388\n"
     ]
    }
   ],
   "source": [
    "# 如果表达式是在一个函数里面，那么生成器表达式周围的小括号可以省略掉。\n",
    "import random\n",
    "\n",
    "d = [random.randint(1, 10) for _ in range(100)]\n",
    "# 我们想统计里面大于 5 的元素的总和\n",
    "# 下面的做法都是可以的\n",
    "print(\n",
    "    sum((x for x in d if x > 5)),\n",
    "    sum(x for x in d if x > 5)\n",
    ")"
   ]
  },
  {
   "cell_type": "markdown",
   "id": "cfaa66b2",
   "metadata": {},
   "source": [
    "### 生成器表达式陷阱\n",
    "生成器表达式还存在一些陷阱，一不小心就踩进去。至于是什么陷阱呢？——<font color= red>使用生成器表达式创建生成器的时候，in 后面的变量就已经确定好了，但其它的变量则不会</font>。"
   ]
  },
  {
   "cell_type": "code",
   "execution_count": 17,
   "id": "ee8fb511",
   "metadata": {},
   "outputs": [],
   "source": [
    "g = (叐叒叓叕叚叜叝 for x in [1, 2, 3]) \n",
    "#  不会报错，尽管 for 前面那一坨我们没有定义，但不要紧，因为生成器是惰性执行的。\n",
    "#  生成器只有在执行的时候，才会去确定变量 ‘叐叒叓叕叚叜叝’ 究竟指向谁"
   ]
  },
  {
   "cell_type": "code",
   "execution_count": 20,
   "id": "e45227bd",
   "metadata": {},
   "outputs": [
    {
     "ename": "NameError",
     "evalue": "name '叐叒叓叕叚叜叝' is not defined",
     "output_type": "error",
     "traceback": [
      "\u001b[1;31m---------------------------------------------------------------------------\u001b[0m",
      "\u001b[1;31mNameError\u001b[0m                                 Traceback (most recent call last)",
      "\u001b[1;32m~\\AppData\\Local\\Temp/ipykernel_20944/542664798.py\u001b[0m in \u001b[0;36m<module>\u001b[1;34m\u001b[0m\n\u001b[0;32m      1\u001b[0m \u001b[0mg\u001b[0m \u001b[1;33m=\u001b[0m \u001b[1;33m(\u001b[0m\u001b[0m叐叒叓叕叚叜叝\u001b[0m \u001b[1;32mfor\u001b[0m \u001b[0mx\u001b[0m \u001b[1;32min\u001b[0m \u001b[1;33m[\u001b[0m\u001b[1;36m1\u001b[0m\u001b[1;33m,\u001b[0m \u001b[1;36m2\u001b[0m\u001b[1;33m,\u001b[0m \u001b[1;36m3\u001b[0m\u001b[1;33m]\u001b[0m\u001b[1;33m)\u001b[0m\u001b[1;33m\u001b[0m\u001b[1;33m\u001b[0m\u001b[0m\n\u001b[1;32m----> 2\u001b[1;33m \u001b[0mg\u001b[0m\u001b[1;33m.\u001b[0m\u001b[0m__next__\u001b[0m\u001b[1;33m(\u001b[0m\u001b[1;33m)\u001b[0m\u001b[1;33m\u001b[0m\u001b[1;33m\u001b[0m\u001b[0m\n\u001b[0m",
      "\u001b[1;32m~\\AppData\\Local\\Temp/ipykernel_20944/542664798.py\u001b[0m in \u001b[0;36m<genexpr>\u001b[1;34m(.0)\u001b[0m\n\u001b[1;32m----> 1\u001b[1;33m \u001b[0mg\u001b[0m \u001b[1;33m=\u001b[0m \u001b[1;33m(\u001b[0m\u001b[0m叐叒叓叕叚叜叝\u001b[0m \u001b[1;32mfor\u001b[0m \u001b[0mx\u001b[0m \u001b[1;32min\u001b[0m \u001b[1;33m[\u001b[0m\u001b[1;36m1\u001b[0m\u001b[1;33m,\u001b[0m \u001b[1;36m2\u001b[0m\u001b[1;33m,\u001b[0m \u001b[1;36m3\u001b[0m\u001b[1;33m]\u001b[0m\u001b[1;33m)\u001b[0m\u001b[1;33m\u001b[0m\u001b[1;33m\u001b[0m\u001b[0m\n\u001b[0m\u001b[0;32m      2\u001b[0m \u001b[0mg\u001b[0m\u001b[1;33m.\u001b[0m\u001b[0m__next__\u001b[0m\u001b[1;33m(\u001b[0m\u001b[1;33m)\u001b[0m\u001b[1;33m\u001b[0m\u001b[1;33m\u001b[0m\u001b[0m\n",
      "\u001b[1;31mNameError\u001b[0m: name '叐叒叓叕叚叜叝' is not defined"
     ]
    }
   ],
   "source": [
    "g = (叐叒叓叕叚叜叝 for x in [1, 2, 3])\n",
    "g.__next__() #  报错 NameError"
   ]
  },
  {
   "cell_type": "code",
   "execution_count": 19,
   "id": "0d128b63",
   "metadata": {},
   "outputs": [
    {
     "ename": "NameError",
     "evalue": "name 'lst1' is not defined",
     "output_type": "error",
     "traceback": [
      "\u001b[1;31m---------------------------------------------------------------------------\u001b[0m",
      "\u001b[1;31mNameError\u001b[0m                                 Traceback (most recent call last)",
      "\u001b[1;32m~\\AppData\\Local\\Temp/ipykernel_20944/308216984.py\u001b[0m in \u001b[0;36m<module>\u001b[1;34m\u001b[0m\n\u001b[1;32m----> 1\u001b[1;33m \u001b[0mg\u001b[0m \u001b[1;33m=\u001b[0m \u001b[1;33m(\u001b[0m\u001b[0mx\u001b[0m \u001b[1;32mfor\u001b[0m \u001b[0mx\u001b[0m \u001b[1;32min\u001b[0m \u001b[0mlst1\u001b[0m\u001b[1;33m)\u001b[0m\u001b[1;33m\u001b[0m\u001b[1;33m\u001b[0m\u001b[0m\n\u001b[0m",
      "\u001b[1;31mNameError\u001b[0m: name 'lst1' is not defined"
     ]
    }
   ],
   "source": [
    "g = (x for x in lst1) #  #  报错 NameError"
   ]
  },
  {
   "cell_type": "code",
   "execution_count": 21,
   "id": "a0bb07aa",
   "metadata": {},
   "outputs": [
    {
     "name": "stdout",
     "output_type": "stream",
     "text": [
      "(1, 2, 3)\n"
     ]
    }
   ],
   "source": [
    "# in 后面的 lst 不会被修改\n",
    "lst = [1, 2, 3]\n",
    "g = (x for x in lst)\n",
    "lst = [4, 5, 6]\n",
    "print(tuple(g))  # (1, 2, 3)"
   ]
  },
  {
   "cell_type": "code",
   "execution_count": 22,
   "id": "515e9e78",
   "metadata": {},
   "outputs": [
    {
     "name": "stdout",
     "output_type": "stream",
     "text": [
      "(11, 12, 13)\n"
     ]
    }
   ],
   "source": [
    "#  in 前面的 i 会被更新\n",
    "i = 1\n",
    "g = (x + i for x in [1, 2, 3])\n",
    "i = 10\n",
    "print(tuple(g))  # (11, 12, 13)"
   ]
  },
  {
   "cell_type": "code",
   "execution_count": 23,
   "id": "7bd12ba0",
   "metadata": {},
   "outputs": [
    {
     "name": "stdout",
     "output_type": "stream",
     "text": [
      "(21, 22, 23, 24)\n"
     ]
    }
   ],
   "source": [
    "# g 被新的生成器引用，i更新\n",
    "g = (x for x in [1, 2, 3, 4])\n",
    "for i in [1, 10]:\n",
    "    g = (x + i for x in g)\n",
    "\n",
    "print(tuple(g))    \n",
    "\n",
    "# 初始的 g，可以看成是 (1, 2, 3, 4)，因为 in 后面是啥，在创建生成器的时候就确定了；\n",
    "# 第一次循环之后，g 就相当于 (1+i, 2+i, 3+i, 4+i)，此时 i=1,；\n",
    "# 第二次循环之后，g 就相当于 (1+i+i, 2+i+i, 3+i+i, 4+i+i)，此时 i=10。"
   ]
  },
  {
   "cell_type": "markdown",
   "id": "5e7844a6",
   "metadata": {},
   "source": [
    "## 小结\n",
    "从 Python 的角度梳理了一遍生成器的相关知识。\n",
    "- 关键字：yield; yield from; return\n",
    "- 方法：_ _ next _ _; send; throw\n",
    "- 异常：StopIteration; GenerateExit; RuntimeError\n",
    "- 委托生成器：使用 yeild from 实现\n",
    "- 生成器表达式：有陷阱"
   ]
  }
 ],
 "metadata": {
  "kernelspec": {
   "display_name": "Python 3 (ipykernel)",
   "language": "python",
   "name": "python3"
  },
  "language_info": {
   "codemirror_mode": {
    "name": "ipython",
    "version": 3
   },
   "file_extension": ".py",
   "mimetype": "text/x-python",
   "name": "python",
   "nbconvert_exporter": "python",
   "pygments_lexer": "ipython3",
   "version": "3.9.7"
  }
 },
 "nbformat": 4,
 "nbformat_minor": 5
}
