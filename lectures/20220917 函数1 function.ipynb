{
 "cells": [
  {
   "cell_type": "markdown",
   "id": "b8a7f6f3",
   "metadata": {},
   "source": [
    "# 函数：提高代码的复用率，避免重复代码，使代码保持简洁\n",
    "- 内置函数:print()、len() \n",
    "- 自定义函数"
   ]
  },
  {
   "cell_type": "raw",
   "id": "7e76e98b",
   "metadata": {},
   "source": [
    "将常用的代码以固定的格式封装（包装）成一个独立的模块，只要知道这个模块的名字就可以重复使用它，这个模块就叫做函数（Function）。"
   ]
  },
  {
   "cell_type": "code",
   "execution_count": 54,
   "id": "a135d118",
   "metadata": {},
   "outputs": [
    {
     "name": "stdout",
     "output_type": "stream",
     "text": [
      "30\n"
     ]
    }
   ],
   "source": [
    "#自定义len()函数\n",
    "def my_len(str):\n",
    "    length = 0\n",
    "    for c in str:\n",
    "       length = length + 1\n",
    "    return length\n",
    "#调用自定义的 my_len() 函数\n",
    "length = my_len(\"http://c.biancheng.net/python/\")\n",
    "print(length)"
   ]
  },
  {
   "cell_type": "markdown",
   "id": "b3b00be4",
   "metadata": {},
   "source": [
    "# 自定义函数：\n",
    "- 1.空函数：用于前期搭建项目架构，提醒\n",
    "- 2.无参函数\n",
    "- 3.有参函数"
   ]
  },
  {
   "cell_type": "code",
   "execution_count": 56,
   "id": "12098fb6",
   "metadata": {},
   "outputs": [],
   "source": [
    "#空函数\n",
    "def run():\n",
    "    pass\n",
    "def fight():\n",
    "    pass\n",
    "def talk():\n",
    "    pass"
   ]
  },
  {
   "cell_type": "markdown",
   "id": "92d65daf",
   "metadata": {},
   "source": [
    "# 1.定义函数"
   ]
  },
  {
   "cell_type": "code",
   "execution_count": null,
   "id": "d85ea7b6",
   "metadata": {},
   "outputs": [],
   "source": [
    "#函数头——def 函数名（参数列表）\n",
    "def say_hi():\n",
    "    # 函数体——实现函数功能\n",
    "    print(\"Hello\")\n",
    "\n",
    "say_hi()"
   ]
  },
  {
   "cell_type": "code",
   "execution_count": 2,
   "id": "4ff5c1ef",
   "metadata": {},
   "outputs": [
    {
     "name": "stdout",
     "output_type": "stream",
     "text": [
      "Hello\n",
      "good morning\n"
     ]
    }
   ],
   "source": [
    "def good_morning():\n",
    "    say_hi() #函数体内也可以调用其他定义过的函数\n",
    "    print(\"good morning\")\n",
    "    \n",
    "good_morning()"
   ]
  },
  {
   "cell_type": "code",
   "execution_count": 3,
   "id": "af698888",
   "metadata": {},
   "outputs": [
    {
     "name": "stdout",
     "output_type": "stream",
     "text": [
      "Hello\n",
      "good morning\n"
     ]
    }
   ],
   "source": [
    "def good_morning():\n",
    "    say_hi() \n",
    "    print(\"good morning\")\n",
    "\n",
    "def say_hi():\n",
    "    print(\"Hello\")\n",
    "good_morning() \n",
    "#函数定义的先后顺序不会有影响，只要保证先定义、后调用"
   ]
  },
  {
   "cell_type": "markdown",
   "id": "6b4501d2",
   "metadata": {},
   "source": [
    "# 2.函数参数"
   ]
  },
  {
   "cell_type": "code",
   "execution_count": 5,
   "id": "7106c608",
   "metadata": {},
   "outputs": [
    {
     "name": "stdout",
     "output_type": "stream",
     "text": [
      "-----\n",
      "**********\n"
     ]
    }
   ],
   "source": [
    "def line(width,char):\n",
    "    '''画一条线'''  #函数文档，通常用三引号（’’’）来表示。\n",
    "    print(char*width)\n",
    "line(5,\"-\")\n",
    "line(10,\"*\") #注意参数顺序"
   ]
  },
  {
   "cell_type": "markdown",
   "id": "38db0e60",
   "metadata": {},
   "source": [
    "# 3.函数返回值"
   ]
  },
  {
   "cell_type": "code",
   "execution_count": null,
   "id": "0ef16624",
   "metadata": {},
   "outputs": [],
   "source": [
    "def set_age(age):\n",
    "    if type(age)!= int:\n",
    "        return None  #return可以提前结束整个函数\n",
    "    if age < 0: \n",
    "        return None\n",
    "    print(age)"
   ]
  },
  {
   "cell_type": "markdown",
   "id": "06ea4900",
   "metadata": {},
   "source": [
    "## 4.返回多个值"
   ]
  },
  {
   "cell_type": "code",
   "execution_count": 9,
   "id": "904366fe",
   "metadata": {},
   "outputs": [
    {
     "name": "stdout",
     "output_type": "stream",
     "text": [
      "i=19  j=3\n",
      "(19, 3)\n"
     ]
    }
   ],
   "source": [
    "def func(a,b):\n",
    "    return a+b,a-b\n",
    "\n",
    "i, j = func(11,8) #按顺序接收，实质上是返回了一个元祖，元祖之后又被拆包为多个结果变量\n",
    "print(f\"i={i}  j={j}\")\n",
    "\n",
    "return_value = func(11,8)  #包含两个元素的元祖\n",
    "print(return_value) "
   ]
  },
  {
   "cell_type": "markdown",
   "id": "a7c20c8f",
   "metadata": {},
   "source": [
    "# 5.练习：因数"
   ]
  },
  {
   "cell_type": "markdown",
   "id": "b6bdfd4e",
   "metadata": {},
   "source": [
    "## 5.1函数文档"
   ]
  },
  {
   "cell_type": "code",
   "execution_count": 67,
   "id": "fb49958a",
   "metadata": {},
   "outputs": [],
   "source": [
    "def find_factor(nums):\n",
    "    '''\n",
    "    find_factor  自定义函数\n",
    "    nums 传递一个正整数的参数\n",
    "    以字符串形式返回一个正整数的所有因数\n",
    "\n",
    "    '''\n",
    "    i=1\n",
    "    str1=\"\"\n",
    "    print(\"%d的因数是：\"%nums)\n",
    "    while i<=nums:\n",
    "        if nums%i==0:\n",
    "            str1 = str1+\" \"+str(i)\n",
    "        i += 1\n",
    "    return str1"
   ]
  },
  {
   "cell_type": "markdown",
   "id": "08d5381a",
   "metadata": {},
   "source": [
    "## 5.2健壮函数"
   ]
  },
  {
   "cell_type": "code",
   "execution_count": 61,
   "id": "6226ef4f",
   "metadata": {},
   "outputs": [
    {
     "name": "stdout",
     "output_type": "stream",
     "text": [
      "输入值类型错误，必须是整数\n"
     ]
    }
   ],
   "source": [
    "def find_factor(nums):\n",
    "    '''\n",
    "    find_factor  自定义函数\n",
    "    nums 传递一个正整数的参数\n",
    "    以字符串形式返回一个正整数的所有因数\n",
    "\n",
    "    '''\n",
    "    if type(nums) != int:\n",
    "        print(\"输入值类型错误，必须是整数\")\n",
    "        return\n",
    "    elif nums<=0:\n",
    "        print(\"输入值的范围出错，必须是整数！\")\n",
    "        return\n",
    "    \n",
    "    i=1\n",
    "    str1=\"\"\n",
    "    print(\"%d的因数是：\"%nums)\n",
    "    while i<=nums:\n",
    "        if nums%i==0:\n",
    "            str1 = str1+\" \"+str(i)\n",
    "        i += 1\n",
    "    return str1\n",
    "\n",
    "\n",
    "find_factor('a')"
   ]
  },
  {
   "cell_type": "markdown",
   "id": "54adf6ca",
   "metadata": {},
   "source": [
    "## 5.3将函数放到模块中"
   ]
  },
  {
   "cell_type": "code",
   "execution_count": 65,
   "id": "ac8effea",
   "metadata": {},
   "outputs": [
    {
     "name": "stdout",
     "output_type": "stream",
     "text": [
      "8的因数是：\n"
     ]
    },
    {
     "data": {
      "text/plain": [
       "' 1 2 4 8'"
      ]
     },
     "execution_count": 65,
     "metadata": {},
     "output_type": "execute_result"
    }
   ],
   "source": [
    "from test_function import find_factor\n",
    "find_factor(8)"
   ]
  },
  {
   "cell_type": "code",
   "execution_count": 66,
   "id": "6afbee77",
   "metadata": {},
   "outputs": [
    {
     "name": "stdout",
     "output_type": "stream",
     "text": [
      "12的因数是：\n"
     ]
    },
    {
     "data": {
      "text/plain": [
       "' 1 2 3 4 6 12'"
      ]
     },
     "execution_count": 66,
     "metadata": {},
     "output_type": "execute_result"
    }
   ],
   "source": [
    "from test_function import find_factor as f1\n",
    "f1(12)"
   ]
  },
  {
   "cell_type": "markdown",
   "id": "8f01fbb6",
   "metadata": {},
   "source": [
    "# 6.变量作用域:程序的哪些地方可以使用变量"
   ]
  },
  {
   "cell_type": "raw",
   "id": "31084490",
   "metadata": {},
   "source": [
    "函数两种连接变量的方式：全局（global）和局部（local）。在函数内部，变量都是默认分配到本地命名空间的。本地命名空间在函数被调用时生成，并立即由函数的参数填充。当函数执行结束后，本地命名空间就会被销毁。"
   ]
  },
  {
   "cell_type": "code",
   "execution_count": 41,
   "id": "5740c232",
   "metadata": {},
   "outputs": [
    {
     "name": "stdout",
     "output_type": "stream",
     "text": [
      "3\n"
     ]
    }
   ],
   "source": [
    "def f():\n",
    "    j = 5  #函数内定义的变量叫做局部变量，只能在函数内使用或修改\n",
    "print(j)"
   ]
  },
  {
   "cell_type": "code",
   "execution_count": 43,
   "id": "85c3db47",
   "metadata": {},
   "outputs": [
    {
     "name": "stdout",
     "output_type": "stream",
     "text": [
      "5\n"
     ]
    }
   ],
   "source": [
    "i = 5\n",
    "def f():\n",
    "    print(i)\n",
    "f() #全局变量，可以在函数内使用"
   ]
  },
  {
   "cell_type": "code",
   "execution_count": 44,
   "id": "eb8e6ca4",
   "metadata": {},
   "outputs": [
    {
     "name": "stdout",
     "output_type": "stream",
     "text": [
      "5\n"
     ]
    }
   ],
   "source": [
    "i = 5\n",
    "def f():\n",
    "    i =22 #赋值一个新的变量，不会对函数外的变量造成影响\n",
    "f()\n",
    "print(i)  #全局变量，不能在函数内直接修改"
   ]
  },
  {
   "cell_type": "code",
   "execution_count": 45,
   "id": "b1c9d41c",
   "metadata": {},
   "outputs": [
    {
     "name": "stdout",
     "output_type": "stream",
     "text": [
      "0\n"
     ]
    }
   ],
   "source": [
    "def f():\n",
    "    global i #如果想在函数内修改全局变量的值，必须使用global关键字声明为全局变量\n",
    "    i = 0\n",
    "f()\n",
    "print(i)"
   ]
  },
  {
   "cell_type": "markdown",
   "id": "e1f1ba96",
   "metadata": {},
   "source": [
    "# 7.参数拓展"
   ]
  },
  {
   "cell_type": "markdown",
   "id": "faabdf29",
   "metadata": {},
   "source": [
    "## 7.1关键词参数（有默认值）、位置参数"
   ]
  },
  {
   "cell_type": "code",
   "execution_count": 46,
   "id": "ed2fdc3e",
   "metadata": {},
   "outputs": [
    {
     "name": "stdout",
     "output_type": "stream",
     "text": [
      "1 2 0\n"
     ]
    }
   ],
   "source": [
    "def f(a,b,c=0):\n",
    "    print(a,b,c)\n",
    "\n",
    "f(1,2)   #默认值参数必须从后往前设置"
   ]
  },
  {
   "cell_type": "code",
   "execution_count": 47,
   "id": "05410749",
   "metadata": {},
   "outputs": [
    {
     "name": "stdout",
     "output_type": "stream",
     "text": [
      "1 3 2\n"
     ]
    }
   ],
   "source": [
    "def f(a,b,c):\n",
    "    print(a,b,c)\n",
    "f(a=1,c=2,b=3) #调用函数可以按照顺序传递参数，也可以按照名称赋值，叫关键词参数，这时就可以随意打乱顺序 "
   ]
  },
  {
   "cell_type": "code",
   "execution_count": 49,
   "id": "53ade641",
   "metadata": {},
   "outputs": [
    {
     "ename": "SyntaxError",
     "evalue": "positional argument follows keyword argument (<ipython-input-49-7365506713a4>, line 3)",
     "output_type": "error",
     "traceback": [
      "\u001b[0;36m  File \u001b[0;32m\"<ipython-input-49-7365506713a4>\"\u001b[0;36m, line \u001b[0;32m3\u001b[0m\n\u001b[0;31m    f(12,c=5,4)\u001b[0m\n\u001b[0m             ^\u001b[0m\n\u001b[0;31mSyntaxError\u001b[0m\u001b[0;31m:\u001b[0m positional argument follows keyword argument\n"
     ]
    }
   ],
   "source": [
    "def f(a,b,c):\n",
    "    print(a,b,c)\n",
    "f(12,c=5,4) #调用时如果使用了关键词参数，那么后面的参数都必须使用关键词"
   ]
  },
  {
   "cell_type": "markdown",
   "id": "919496de",
   "metadata": {},
   "source": [
    "## 7.2形式参数（形参，parameter）和实际参数（实参，argument）"
   ]
  },
  {
   "cell_type": "code",
   "execution_count": 51,
   "id": "40efa816",
   "metadata": {},
   "outputs": [
    {
     "name": "stdout",
     "output_type": "stream",
     "text": [
      "6\n"
     ]
    }
   ],
   "source": [
    "def f(a):  #a是形参\n",
    "    a = 0\n",
    "i = 6  \n",
    "f(i)  #调用函数时，实参给形参赋值\n",
    "print(i) #i=6,a=i,a=0"
   ]
  },
  {
   "cell_type": "code",
   "execution_count": null,
   "id": "5f2599a2",
   "metadata": {},
   "outputs": [],
   "source": [
    "l = [1,2,3]\n",
    "def f(a):\n",
    "    a.append(6) #相当于l这个列表\n",
    "f(l)\n",
    "print(l)                                                                                                                                                                                                                                                                                                                                                                                                                                                                                                                                                                                                                                                                                                                                                                                                                                                                                                                                                                                                                                                                                                                                                                                                                                                                                                                                                                                                                                                                                                                                                                                                                                  "
   ]
  },
  {
   "cell_type": "code",
   "execution_count": 53,
   "id": "7f366646",
   "metadata": {},
   "outputs": [
    {
     "name": "stdout",
     "output_type": "stream",
     "text": [
      "[1, 2, 3]\n"
     ]
    }
   ],
   "source": [
    "l = [1,2,3]\n",
    "def f(a):\n",
    "    a = [1,2,3] #给a重新赋值\n",
    "    a.append(6)\n",
    "f(l)\n",
    "print(l)"
   ]
  },
  {
   "cell_type": "code",
   "execution_count": null,
   "id": "bf091f95",
   "metadata": {},
   "outputs": [],
   "source": []
  }
 ],
 "metadata": {
  "kernelspec": {
   "display_name": "Python 3",
   "language": "python",
   "name": "python3"
  },
  "language_info": {
   "codemirror_mode": {
    "name": "ipython",
    "version": 3
   },
   "file_extension": ".py",
   "mimetype": "text/x-python",
   "name": "python",
   "nbconvert_exporter": "python",
   "pygments_lexer": "ipython3",
   "version": "3.8.8"
  }
 },
 "nbformat": 4,
 "nbformat_minor": 5
}
