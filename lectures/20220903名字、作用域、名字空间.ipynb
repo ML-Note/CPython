{
 "cells": [
  {
   "cell_type": "markdown",
   "id": "5dbf808a",
   "metadata": {},
   "source": [
    "# 名字、名字空间和作用域\n",
    "- <font color= red>变量</font>的定义本质上就是建立<font color= red>名字</font>和<font color= red>对象</font>之间的约束关系，名字是一个符号。可以通过变量赋值、创建函数、类等定义变量，完成名字和对象之间的绑定。\n",
    "\n",
    "- <font color= red>作用域</font>可以理解为一段程序的正文区域，在这个区域里面定义的变量是有意义的，然而一旦出了这个区域，就无效了。因此作用域是由源程序的文本所决定的，是静态结构。\n",
    "\n",
    "- <font color= red>名字空间</font>本质上是一个字典，键是名字、值是对象。\n",
    "\n",
    "\n",
    "Python具有<font color= red>静态作用域</font>(词法作用域)，而<font color= red>名字空间则是作用域的动态体现</font>，一个由程序文本定义的作用域在Python运行时会转化为一个名字空间、即一个PyDictObject对象。而进入一个函数，显然进入了一个新的作用域，因此函数在执行时，会创建一个名字空间。\n",
    "\n",
    "\n",
    "- Python定义了一个最顶层的作用域，也就是<font color= red>builtin作用域</font>，像内置函数、内建对象都在<font color= plum>builtin名字空间</font>里面；\n",
    "- 模块对应的源文件本身也有相应的作用域，即<font color= red>global作用域</font>。所以解释器在运行这个文件的时候，也会为其创建一个名字空间，而这个名字空间就是<font color= plum>global名字空间</font>。它里面的变量是全局的，或者说是模块级别的，在当前文件的任意位置都可以直接访问。\n",
    "- 函数、类也有作用域，这个作用域称为<font color= red>local作用域</font>，对应<font color= plum>local名字空间</font>。\n",
    "\n",
    "\n",
    "- 作用域是层层嵌套的；\n",
    "- 内层作用域可以访问外层作用域；\n",
    "- 外层作用域无法访问内层作用域；\n",
    "- 查找元素会依次从当前作用域向外查找。"
   ]
  },
  {
   "cell_type": "code",
   "execution_count": 1,
   "id": "73d07912",
   "metadata": {},
   "outputs": [
    {
     "name": "stdout",
     "output_type": "stream",
     "text": [
      "4\n",
      "3\n",
      "3\n"
     ]
    }
   ],
   "source": [
    "a = 3\n",
    "\n",
    "def foo():\n",
    "    a = 4\n",
    "    print(a)\n",
    "    \n",
    "def hoo():\n",
    "    print(a)\n",
    "\n",
    "foo()      # 4  \n",
    "hoo()      # 3\n",
    "print(a)   # 3    "
   ]
  },
  {
   "cell_type": "code",
   "execution_count": 2,
   "id": "a4bbe6df",
   "metadata": {},
   "outputs": [
    {
     "name": "stdout",
     "output_type": "stream",
     "text": [
      "1\n",
      "2\n"
     ]
    }
   ],
   "source": [
    "class A:\n",
    "    a = 1\n",
    "\n",
    "\n",
    "class B:\n",
    "    a = 2\n",
    "    print(A.a)  # 1  属性访问,不同作用域，则需要通过访问修饰符 . 进行属性访问\n",
    "    print(a)    # 2  直接访问,位于同一个作用域的代码可以直接访问作用域中出现的名字"
   ]
  },
  {
   "cell_type": "markdown",
   "id": "52960263",
   "metadata": {},
   "source": [
    "\n",
    "<font color= red>获取名字空间</font>，Python也提供了相应的内置函数：\n",
    "\n",
    "locals函数：获取当前作用域的local名字空间，local名字空间也称为局部名字空间；\n",
    "\n",
    "globals函数：获取当前作用域的global名字空间，global名字空间也称为全局名字空间；\n",
    "\n",
    "__builtins__函数：或者import builtins，获取当前作用域的builtin名字空间，builtint名字空间也称为内置名字空间；"
   ]
  },
  {
   "cell_type": "markdown",
   "id": "181b2de0",
   "metadata": {},
   "source": [
    "### global名字空间\n",
    "<font color= red>global名字空间是唯一的</font>，在任何地方调用globals()得到的都是global名字空间，正如你在任何地方都可以访问到全局变量一样。\n",
    "我们之前提到，名字空间是一个字典，变量和对象会以键值对的形式存在里面。因此在此处，<font color= red>通过往global名字空间里面插入一个键值对完全等价于定义一个全局变量</font>。"
   ]
  },
  {
   "cell_type": "code",
   "execution_count": 3,
   "id": "29ee0c6b",
   "metadata": {},
   "outputs": [
    {
     "name": "stdout",
     "output_type": "stream",
     "text": [
      "古明地觉\n",
      "16\n"
     ]
    }
   ],
   "source": [
    "# 直接向global名字空间添加键值对，等价于定义一个全局变量、并和对象绑定起来\n",
    "globals()[\"name\"] = \"古明地觉\"\n",
    "print(name)  # 古明地觉\n",
    "\n",
    "#在函数中向global名字空间添加键值对\n",
    "def f1():\n",
    "    def f2():\n",
    "        def f3():\n",
    "            globals()[\"age\"] = 16\n",
    "        return f3\n",
    "    return f2\n",
    "f1()()()\n",
    "print(age)  # 16"
   ]
  },
  {
   "cell_type": "markdown",
   "id": "23a1e3dd",
   "metadata": {},
   "source": [
    "### local名字空间\n",
    "对于local名字空间来说，它也对应一个字典，显然这个字典就不是全局唯一的了，每一个局部作用域都会对应自身的local名字空间。"
   ]
  },
  {
   "cell_type": "code",
   "execution_count": 4,
   "id": "0b3bdb73",
   "metadata": {},
   "outputs": [
    {
     "name": "stdout",
     "output_type": "stream",
     "text": [
      "True\n",
      "{'name': '夏色祭', 'age': 16}\n",
      "{'name': '神乐mea', 'age': 38}\n"
     ]
    }
   ],
   "source": [
    "def f():\n",
    "    name = \"夏色祭\"\n",
    "    age = 16\n",
    "    return locals()\n",
    "\n",
    "\n",
    "def g():\n",
    "    name = \"神乐mea\"\n",
    "    age = 38\n",
    "    return locals()\n",
    "\n",
    "\n",
    "print(locals() == globals())  # True\n",
    "print(f())  # {'name': '夏色祭', 'age': 16}\n",
    "print(g())  # {'name': '神乐mea', 'age': 38}"
   ]
  },
  {
   "cell_type": "code",
   "execution_count": 5,
   "id": "43e272a2",
   "metadata": {},
   "outputs": [
    {
     "name": "stdout",
     "output_type": "stream",
     "text": [
      "name 'name_1' is not defined\n"
     ]
    }
   ],
   "source": [
    "def f1():\n",
    "    locals()[\"name_1 \"] = \"夏色祭\"\n",
    "    try:\n",
    "        print(name_1)\n",
    "    except Exception as e:\n",
    "        print(e)\n",
    "\n",
    "f1()  # name 'name_1' is not defined"
   ]
  },
  {
   "cell_type": "markdown",
   "id": "97bd7766",
   "metadata": {},
   "source": [
    "- 对于函数来讲，内部的变量是通过静态方式存储和访问的，因为局部作用域中存在哪些变量在编译的时候就已经确定了。因此<font color= red>不可以通过向local名字空间添加键值对的方式定义局部变量</font>。\n",
    "- 对于全局变量来讲，因为全局变量会一直在变，需要使用字典来动态维护，因此变量的创建是通过向字典添加键值对的方式实现的。"
   ]
  },
  {
   "cell_type": "markdown",
   "id": "ed0e54f9",
   "metadata": {},
   "source": [
    "### builtin名字空间\n",
    "对于builtin名字空间，它也是一个字典。当local空间、global空间都没有的时候，会去builtin空间查找。问题来了，builtin名字空间如何获取呢？答案是使用builtins模块，通过builtins. __dict__即可拿到builtin名字空间。"
   ]
  },
  {
   "cell_type": "code",
   "execution_count": null,
   "id": "930eceb9",
   "metadata": {},
   "outputs": [],
   "source": [
    "# 等价于__builtins__\n",
    "import builtins\n",
    "\n",
    "# local, global名字空间没有定义dict\n",
    "# 将builtin空间的dict改成123,那么此时获取的dict就是123,因为是从内置作用域中获取的\n",
    "print(builtins.dict) # <class 'dict'>\n",
    "builtins.dict = 123\n",
    "print(dict)  # 123\n",
    "\n",
    "#先在global名字空间创建全局变量，此时改变全局空间，但不影响builtin空间\n",
    "str = 123\n",
    "print(str)  # 123\n",
    "print(builtins.str)  # <class 'str'>"
   ]
  },
  {
   "cell_type": "markdown",
   "id": "6e22b68c",
   "metadata": {},
   "source": [
    "### LEB规则 与 LEGB规则"
   ]
  },
  {
   "cell_type": "markdown",
   "id": "a675cadc",
   "metadata": {},
   "source": [
    "LGB：local - global - builtin （局部 - 全局 - 内置名字空间）\n",
    "\n",
    "<font color= red>LEGB：local - enclosing - global - builtin （局部 - 闭包 - 全局 - 内置名字空间）</font>\n",
    "\n",
    "从Python2.2开始，引入了嵌套函数，因此内层函数找不到某个变量时应先去外层函数找，而不是直接跑到global空间里面找。此处E表示enclosing，代表直接外围作用域。\n",
    "\n",
    "在执行f = foo()的时候，会执行函数foo中的def bar():语句，这个时候解释器会将a=2与函数bar捆绑在一起，然后返回，这个捆绑起来的整体就叫做闭包。所以：闭包 = 内层函数 + 引用的外层作用域\n"
   ]
  },
  {
   "cell_type": "code",
   "execution_count": 6,
   "id": "56ab534d",
   "metadata": {},
   "outputs": [
    {
     "name": "stdout",
     "output_type": "stream",
     "text": [
      "2\n"
     ]
    }
   ],
   "source": [
    "a = 1\n",
    "\n",
    "def foo():\n",
    "    a = 2\n",
    "    def bar():\n",
    "        print(a)\n",
    "    return bar\n",
    "\n",
    "f = foo()\n",
    "f()      # 2"
   ]
  },
  {
   "cell_type": "markdown",
   "id": "9d743a9e",
   "metadata": {},
   "source": [
    "虽然每个模块(源文件)内部的作用域规则有点复杂，因为要遵循LEGB；但模块与模块之间的作用域还是划分的很清晰的，就是相互独立。<font color= red>名称引用虽然是LEGB规则，但是无论如何都无法越过自身所在的模块。</font>\n",
    "\n",
    "如下例所示，即使我们把a导入了进来，但是a.py里面的内容依旧是处于一个模块里面。print(name)在a.py里面，而变量name被定义在b.py里面，所以不可能跨过模块a的作用域去访问模块b里面的name，因此在执行 import a 的时候会抛出 NameError。"
   ]
  },
  {
   "cell_type": "code",
   "execution_count": 7,
   "id": "f4cc1fe2",
   "metadata": {},
   "outputs": [
    {
     "name": "stdout",
     "output_type": "stream",
     "text": [
      "古明地觉\n"
     ]
    },
    {
     "ename": "ModuleNotFoundError",
     "evalue": "No module named 'a'",
     "output_type": "error",
     "traceback": [
      "\u001b[1;31m---------------------------------------------------------------------------\u001b[0m",
      "\u001b[1;31mModuleNotFoundError\u001b[0m                       Traceback (most recent call last)",
      "\u001b[1;32m~\\AppData\\Local\\Temp/ipykernel_4108/3949839415.py\u001b[0m in \u001b[0;36m<module>\u001b[1;34m\u001b[0m\n\u001b[0;32m      4\u001b[0m \u001b[1;31m# b.py\u001b[0m\u001b[1;33m\u001b[0m\u001b[1;33m\u001b[0m\u001b[0m\n\u001b[0;32m      5\u001b[0m \u001b[0mname\u001b[0m \u001b[1;33m=\u001b[0m \u001b[1;34m\"夏色祭\"\u001b[0m\u001b[1;33m\u001b[0m\u001b[1;33m\u001b[0m\u001b[0m\n\u001b[1;32m----> 6\u001b[1;33m \u001b[1;32mimport\u001b[0m \u001b[0ma\u001b[0m \u001b[1;31m# NameError\u001b[0m\u001b[1;33m\u001b[0m\u001b[1;33m\u001b[0m\u001b[0m\n\u001b[0m",
      "\u001b[1;31mModuleNotFoundError\u001b[0m: No module named 'a'"
     ]
    }
   ],
   "source": [
    "# a.py\n",
    "print(name)\n",
    "\n",
    "# b.py\n",
    "name = \"夏色祭\"\n",
    "import a # NameError"
   ]
  },
  {
   "cell_type": "markdown",
   "id": "6e0131a2",
   "metadata": {},
   "source": [
    "### global 关键字\n",
    "在函数内对某个名字进行赋值操作，这个名字就会在作用域内可见，出现在local名字空间中，同时会遮蔽外层作用域中相同的名字。Python也为我们精心准备了<font color= red>global关键字，可以在函数内部修改全局变量</font>。比如函数内部出现了global a，就表示我后面的a是全局的，直接到global名字空间里面去找，不要在local空间里面找了。\n",
    "### nonlocal 关键字\n",
    "那么如果想要<font color= red>在内层函数中修改外层函数中的变量a，不是全局的a，此时可以使用nonlocal关键字</font>，注意，使用nonlocal的时候必须是在内层函数里面。"
   ]
  },
  {
   "cell_type": "code",
   "execution_count": 8,
   "id": "e77648af",
   "metadata": {},
   "outputs": [
    {
     "name": "stdout",
     "output_type": "stream",
     "text": [
      "2\n"
     ]
    }
   ],
   "source": [
    "# global关键字\n",
    "a = 1\n",
    "\n",
    "def bar():\n",
    "    def foo():\n",
    "        global a\n",
    "        a = 2\n",
    "    return foo\n",
    "\n",
    "bar()()\n",
    "print(a)  # 2"
   ]
  },
  {
   "cell_type": "code",
   "execution_count": 9,
   "id": "f4f4f8a9",
   "metadata": {},
   "outputs": [
    {
     "name": "stdout",
     "output_type": "stream",
     "text": [
      "xxx\n",
      "1\n"
     ]
    }
   ],
   "source": [
    "# nonlocal关键字\n",
    "a = 1\n",
    "\n",
    "def bar():\n",
    "    a = 2\n",
    "    def foo():\n",
    "        nonlocal a\n",
    "        a = \"xxx\"\n",
    "    foo()\n",
    "    print(a)\n",
    "    return foo\n",
    "\n",
    "bar()()   #xxx\n",
    "print(a)  # 1"
   ]
  },
  {
   "cell_type": "markdown",
   "id": "440ecb86",
   "metadata": {},
   "source": [
    "### eval()和exec()函数中的局部、全局名字空间参数\n",
    "eval(expression[, globals[, locals]]) # 只能执行计算数学表达式的功能\n",
    "\n",
    "exec(expression[, globals[, locals]]) # 能够动态地执行复杂的python代码"
   ]
  },
  {
   "cell_type": "code",
   "execution_count": 10,
   "id": "633c0a4a",
   "metadata": {},
   "outputs": [
    {
     "name": "stdout",
     "output_type": "stream",
     "text": [
      "古明地觉\n",
      "satori\n"
     ]
    }
   ],
   "source": [
    "# 如果不指定，默认当前所在的名字空间,显然此时是全局名字空间\n",
    "exec(\"name = '古明地觉'\")\n",
    "print(name)  # 古明地觉\n",
    "\n",
    "# 将 dct 作为全局名字空间,这里我们没有指定第三个参数，也就是局部名字空间.\n",
    "dct = {}\n",
    "exec(\"name = 'satori'\", dct)\n",
    "print(dct[\"name\"])  # satori"
   ]
  },
  {
   "cell_type": "markdown",
   "id": "d369e8c0",
   "metadata": {},
   "source": [
    "### 小结\n",
    "在 Python 中，名字是指代变量的一个符号，它的具体含义由的可见范围由作用域决定，而作用域由语法静态划分，划分规则提炼如下：\n",
    "\n",
    "- .py文件(模块)最外层为全局作用域；\n",
    "- 遇到函数定义，函数体形成子作用域；\n",
    "- 遇到类定义，类定义体形成子作用域；\n",
    "- 名字仅在其作用域以内可见；\n",
    "- 全局作用域对其他所有作用域可见；\n",
    "- 函数作用域对其直接子作用域可见，并且可以传递(闭包)。\n",
    "\n",
    "\n",
    "与作用域相对应， Python在运行时借助PyDictObject对象保存作用域中的名字，构成动态的名字空间 。这样的名字空间总共有 4 个：\n",
    "\n",
    "- 局部名字空间(local)：不同的函数，局部名字空间不同，可以通过调用 locals 获取；\n",
    "- 闭包名字空间(enclosing)；\n",
    "- 全局名字空间(global)：全局唯一，可以通过调用 globals 获取；\n",
    "- 内置名字空间(builtin)：可以通过调用 __builtins__.__dict__ 获取；\n",
    "\n",
    "\n",
    "查找名字时会按照LEGB规则查找，但是注意：无法跨越文件本身，也就是按照自身文件的LEGB。如果属性查找都找到builtin空间了，那么证明这已经是最后的倔强。如果builtin空间再找不到，那么就只能报错了，不可能跑到其它文件中找。"
   ]
  }
 ],
 "metadata": {
  "kernelspec": {
   "display_name": "Python 3 (ipykernel)",
   "language": "python",
   "name": "python3"
  },
  "language_info": {
   "codemirror_mode": {
    "name": "ipython",
    "version": 3
   },
   "file_extension": ".py",
   "mimetype": "text/x-python",
   "name": "python",
   "nbconvert_exporter": "python",
   "pygments_lexer": "ipython3",
   "version": "3.9.7"
  }
 },
 "nbformat": 4,
 "nbformat_minor": 5
}
